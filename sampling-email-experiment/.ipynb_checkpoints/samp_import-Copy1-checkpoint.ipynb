{
 "cells": [
  {
   "cell_type": "markdown",
   "metadata": {},
   "source": [
    "## Samp – import and merge   \n",
    "\n",
    "#### Purpose: import list of contacts provided by GIZ and merge them; import gendered names lists and merge them\n",
    "Outline:   \n",
    "Part 1: Set up paths, import necessary packages  \n",
    "Part 2: Load datasets (mailing lists provided by GIZ) and merge  \n",
    "Part 3: Load datasets (gendered names lists) and merge  \n",
    "Part 4: Export results"
   ]
  },
  {
   "cell_type": "markdown",
   "metadata": {},
   "source": [
    "## Part 1  \n",
    "#### Download any necessary packages, import and set up paths"
   ]
  },
  {
   "cell_type": "code",
   "execution_count": null,
   "metadata": {},
   "outputs": [],
   "source": [
    "## Install these packages if you don't have them already (remove the #)\n",
    "\n",
    "#!pip install earthpy"
   ]
  },
  {
   "cell_type": "code",
   "execution_count": 1,
   "metadata": {},
   "outputs": [],
   "source": [
    "import csv\n",
    "import pandas as pd\n",
    "import re\n",
    "import os\n",
    "import earthpy as et"
   ]
  },
  {
   "cell_type": "code",
   "execution_count": 2,
   "metadata": {},
   "outputs": [],
   "source": [
    "github_path = os.path.join(et.io.HOME, \"Documents\",\"GitHub\",\"giz-pema-ecommerce\",\"sampling-email-experiment\")\n",
    "\n",
    "try:\n",
    "    gdrive_path = os.path.join(et.io.HOME, \"Google Drive\", \"Research_GIZ_Tunisia_exportpromotion\",\"1. Intervention I – E-commerce\",\"data\",\"0-sampling-email-experiment\")\n",
    "    os.chdir(gdrive_path)\n",
    "except:\n",
    "    gdrive_path = os.path.join(et.io.HOME, \"Google Drive\",\"My Drive\", \"Research_GIZ_Tunisia_exportpromotion\",\"1. Intervention I – E-commerce\",\"data\",\"0-sampling-email-experiment\")"
   ]
  },
  {
   "cell_type": "markdown",
   "metadata": {},
   "source": [
    "## Part 2  \n",
    "#### Load GIZ datasets and merge  \n",
    "(Prior to this, all datasets were saved in .csv format)"
   ]
  },
  {
   "cell_type": "code",
   "execution_count": 4,
   "metadata": {},
   "outputs": [
    {
     "data": {
      "text/html": [
       "<div>\n",
       "<style scoped>\n",
       "    .dataframe tbody tr th:only-of-type {\n",
       "        vertical-align: middle;\n",
       "    }\n",
       "\n",
       "    .dataframe tbody tr th {\n",
       "        vertical-align: top;\n",
       "    }\n",
       "\n",
       "    .dataframe thead th {\n",
       "        text-align: right;\n",
       "    }\n",
       "</style>\n",
       "<table border=\"1\" class=\"dataframe\">\n",
       "  <thead>\n",
       "    <tr style=\"text-align: right;\">\n",
       "      <th></th>\n",
       "      <th>firmname</th>\n",
       "      <th>name</th>\n",
       "      <th>email</th>\n",
       "    </tr>\n",
       "  </thead>\n",
       "  <tbody>\n",
       "    <tr>\n",
       "      <th>0</th>\n",
       "      <td>3Dwave</td>\n",
       "      <td>Ferid kamel</td>\n",
       "      <td>feridkamel@gmail.com</td>\n",
       "    </tr>\n",
       "    <tr>\n",
       "      <th>1</th>\n",
       "      <td>ABAPLAST</td>\n",
       "      <td>Akram Ben amor</td>\n",
       "      <td>abaplast@topnet.tn</td>\n",
       "    </tr>\n",
       "    <tr>\n",
       "      <th>2</th>\n",
       "      <td>ABIN CONSULTING</td>\n",
       "      <td>Elyes Grar</td>\n",
       "      <td>elyesgrar@gmail.com</td>\n",
       "    </tr>\n",
       "    <tr>\n",
       "      <th>3</th>\n",
       "      <td>ABP</td>\n",
       "      <td>Ayda Bouassida</td>\n",
       "      <td>aydabouassidaa@gmail.com</td>\n",
       "    </tr>\n",
       "    <tr>\n",
       "      <th>4</th>\n",
       "      <td>ABSHORE</td>\n",
       "      <td>Asma Mechri</td>\n",
       "      <td>asma.mechri@abshore.com</td>\n",
       "    </tr>\n",
       "  </tbody>\n",
       "</table>\n",
       "</div>"
      ],
      "text/plain": [
       "          firmname             name                     email\n",
       "0           3Dwave      Ferid kamel      feridkamel@gmail.com\n",
       "1         ABAPLAST   Akram Ben amor        abaplast@topnet.tn\n",
       "2  ABIN CONSULTING       Elyes Grar       elyesgrar@gmail.com\n",
       "3              ABP  Ayda Bouassida   aydabouassidaa@gmail.com\n",
       "4          ABSHORE      Asma Mechri   asma.mechri@abshore.com"
      ]
     },
     "execution_count": 4,
     "metadata": {},
     "output_type": "execute_result"
    }
   ],
   "source": [
    "## First PEMA dataset\n",
    "\n",
    "pema = pd.read_csv(os.path.join(gdrive_path,'raw','BD Pema II.csv'), dtype='string' )\n",
    "pema.rename(columns={'Entreprises': 'firmname', 'Prénom et nom': 'name', 'Email': 'email'}, inplace=True)\n",
    "pema.head()"
   ]
  },
  {
   "cell_type": "markdown",
   "metadata": {},
   "source": [
    "##### This one needs a bit of cleaning before it can be merged"
   ]
  },
  {
   "cell_type": "code",
   "execution_count": 5,
   "metadata": {},
   "outputs": [
    {
     "data": {
      "text/html": [
       "<div>\n",
       "<style scoped>\n",
       "    .dataframe tbody tr th:only-of-type {\n",
       "        vertical-align: middle;\n",
       "    }\n",
       "\n",
       "    .dataframe tbody tr th {\n",
       "        vertical-align: top;\n",
       "    }\n",
       "\n",
       "    .dataframe thead th {\n",
       "        text-align: right;\n",
       "    }\n",
       "</style>\n",
       "<table border=\"1\" class=\"dataframe\">\n",
       "  <thead>\n",
       "    <tr style=\"text-align: right;\">\n",
       "      <th></th>\n",
       "      <th>firmname</th>\n",
       "      <th>name</th>\n",
       "      <th>email</th>\n",
       "      <th>firstname</th>\n",
       "      <th>lastname</th>\n",
       "      <th>origin</th>\n",
       "    </tr>\n",
       "  </thead>\n",
       "  <tbody>\n",
       "    <tr>\n",
       "      <th>0</th>\n",
       "      <td>3Dwave</td>\n",
       "      <td>Ferid kamel</td>\n",
       "      <td>feridkamel@gmail.com</td>\n",
       "      <td>Ferid</td>\n",
       "      <td>kamel</td>\n",
       "      <td>pema</td>\n",
       "    </tr>\n",
       "    <tr>\n",
       "      <th>1</th>\n",
       "      <td>ABAPLAST</td>\n",
       "      <td>Akram Ben amor</td>\n",
       "      <td>abaplast@topnet.tn</td>\n",
       "      <td>Akram</td>\n",
       "      <td>Ben amor</td>\n",
       "      <td>pema</td>\n",
       "    </tr>\n",
       "    <tr>\n",
       "      <th>2</th>\n",
       "      <td>ABIN CONSULTING</td>\n",
       "      <td>Elyes Grar</td>\n",
       "      <td>elyesgrar@gmail.com</td>\n",
       "      <td>Elyes</td>\n",
       "      <td>Grar</td>\n",
       "      <td>pema</td>\n",
       "    </tr>\n",
       "    <tr>\n",
       "      <th>3</th>\n",
       "      <td>ABP</td>\n",
       "      <td>Ayda Bouassida</td>\n",
       "      <td>aydabouassidaa@gmail.com</td>\n",
       "      <td>Ayda</td>\n",
       "      <td>Bouassida</td>\n",
       "      <td>pema</td>\n",
       "    </tr>\n",
       "    <tr>\n",
       "      <th>4</th>\n",
       "      <td>ABSHORE</td>\n",
       "      <td>Asma Mechri</td>\n",
       "      <td>asma.mechri@abshore.com</td>\n",
       "      <td>Asma</td>\n",
       "      <td>Mechri</td>\n",
       "      <td>pema</td>\n",
       "    </tr>\n",
       "  </tbody>\n",
       "</table>\n",
       "</div>"
      ],
      "text/plain": [
       "          firmname            name                     email firstname  \\\n",
       "0           3Dwave     Ferid kamel      feridkamel@gmail.com     Ferid   \n",
       "1         ABAPLAST  Akram Ben amor        abaplast@topnet.tn     Akram   \n",
       "2  ABIN CONSULTING      Elyes Grar       elyesgrar@gmail.com     Elyes   \n",
       "3              ABP  Ayda Bouassida  aydabouassidaa@gmail.com      Ayda   \n",
       "4          ABSHORE     Asma Mechri   asma.mechri@abshore.com      Asma   \n",
       "\n",
       "    lastname origin  \n",
       "0      kamel   pema  \n",
       "1   Ben amor   pema  \n",
       "2       Grar   pema  \n",
       "3  Bouassida   pema  \n",
       "4     Mechri   pema  "
      ]
     },
     "execution_count": 5,
     "metadata": {},
     "output_type": "execute_result"
    }
   ],
   "source": [
    "pema['name'] = pema['name'].str.strip()\n",
    "pema[['firstname','lastname']] = pema[\"name\"].str.split(\" \", 1, expand=True)\n",
    "pema['origin'] = 'pema'\n",
    "pema.head()"
   ]
  },
  {
   "cell_type": "code",
   "execution_count": 7,
   "metadata": {},
   "outputs": [
    {
     "data": {
      "text/html": [
       "<div>\n",
       "<style scoped>\n",
       "    .dataframe tbody tr th:only-of-type {\n",
       "        vertical-align: middle;\n",
       "    }\n",
       "\n",
       "    .dataframe tbody tr th {\n",
       "        vertical-align: top;\n",
       "    }\n",
       "\n",
       "    .dataframe thead th {\n",
       "        text-align: right;\n",
       "    }\n",
       "</style>\n",
       "<table border=\"1\" class=\"dataframe\">\n",
       "  <thead>\n",
       "    <tr style=\"text-align: right;\">\n",
       "      <th></th>\n",
       "      <th>name</th>\n",
       "      <th>firstname</th>\n",
       "      <th>lastname</th>\n",
       "      <th>email</th>\n",
       "      <th>origin</th>\n",
       "    </tr>\n",
       "  </thead>\n",
       "  <tbody>\n",
       "    <tr>\n",
       "      <th>0</th>\n",
       "      <td>Mohamed Anis</td>\n",
       "      <td>Mohamed Anis</td>\n",
       "      <td>BEN ROMDHANE</td>\n",
       "      <td>anis.benromdhane@geomatics-engineering.com</td>\n",
       "      <td>pema2</td>\n",
       "    </tr>\n",
       "    <tr>\n",
       "      <th>1</th>\n",
       "      <td>nabil zarai</td>\n",
       "      <td>nabil</td>\n",
       "      <td>zarai</td>\n",
       "      <td>nabil@naza.dev</td>\n",
       "      <td>pema2</td>\n",
       "    </tr>\n",
       "    <tr>\n",
       "      <th>2</th>\n",
       "      <td>Fatma</td>\n",
       "      <td>Fatma</td>\n",
       "      <td>Gattoufi</td>\n",
       "      <td>fattoumagatt@gmail.com</td>\n",
       "      <td>pema2</td>\n",
       "    </tr>\n",
       "    <tr>\n",
       "      <th>3</th>\n",
       "      <td>Noura Aloui</td>\n",
       "      <td>Noura</td>\n",
       "      <td>Aloui</td>\n",
       "      <td>nawaranour67@yahoo.fr</td>\n",
       "      <td>pema2</td>\n",
       "    </tr>\n",
       "    <tr>\n",
       "      <th>4</th>\n",
       "      <td>Emna</td>\n",
       "      <td>Emna</td>\n",
       "      <td>JEMMALI</td>\n",
       "      <td>emnajemmali1@gmail.com</td>\n",
       "      <td>pema2</td>\n",
       "    </tr>\n",
       "  </tbody>\n",
       "</table>\n",
       "</div>"
      ],
      "text/plain": [
       "           name     firstname      lastname  \\\n",
       "0  Mohamed Anis  Mohamed Anis  BEN ROMDHANE   \n",
       "1   nabil zarai         nabil         zarai   \n",
       "2         Fatma         Fatma      Gattoufi   \n",
       "3   Noura Aloui         Noura         Aloui   \n",
       "4          Emna          Emna       JEMMALI   \n",
       "\n",
       "                                        email origin  \n",
       "0  anis.benromdhane@geomatics-engineering.com  pema2  \n",
       "1                              nabil@naza.dev  pema2  \n",
       "2                      fattoumagatt@gmail.com  pema2  \n",
       "3                       nawaranour67@yahoo.fr  pema2  \n",
       "4                      emnajemmali1@gmail.com  pema2  "
      ]
     },
     "execution_count": 7,
     "metadata": {},
     "output_type": "execute_result"
    }
   ],
   "source": [
    "# Second PEMA dataset\n",
    "\n",
    "pema2 = pd.read_csv(os.path.join(gdrive_path,'raw','BD Event lancement PEMA II.csv'), skiprows=3, dtype='string' )\n",
    "pema2.rename(columns={'Nom d’utilisateur (nom original)': 'name', 'Prénom': 'firstname', 'Nom de famille': 'lastname', 'Adresse électronique': 'email'}, inplace=True)\n",
    "pema2 = pema2[['name','firstname', 'lastname', 'email']]\n",
    "pema2['origin'] = 'pema2'\n",
    "pema2.head()"
   ]
  },
  {
   "cell_type": "code",
   "execution_count": 9,
   "metadata": {},
   "outputs": [
    {
     "ename": "KeyError",
     "evalue": "\"['delegation'] not in index\"",
     "output_type": "error",
     "traceback": [
      "\u001b[0;31m---------------------------------------------------------------------------\u001b[0m",
      "\u001b[0;31mKeyError\u001b[0m                                  Traceback (most recent call last)",
      "\u001b[0;32m<ipython-input-9-ba96899e759a>\u001b[0m in \u001b[0;36m<module>\u001b[0;34m\u001b[0m\n\u001b[1;32m      3\u001b[0m \u001b[0mapi\u001b[0m \u001b[0;34m=\u001b[0m \u001b[0mpd\u001b[0m\u001b[0;34m.\u001b[0m\u001b[0mread_csv\u001b[0m\u001b[0;34m(\u001b[0m\u001b[0mos\u001b[0m\u001b[0;34m.\u001b[0m\u001b[0mpath\u001b[0m\u001b[0;34m.\u001b[0m\u001b[0mjoin\u001b[0m\u001b[0;34m(\u001b[0m\u001b[0mgdrive_path\u001b[0m\u001b[0;34m,\u001b[0m\u001b[0;34m'raw'\u001b[0m\u001b[0;34m,\u001b[0m\u001b[0;34m'APII-BD ApiiGizAfrica.csv'\u001b[0m\u001b[0;34m)\u001b[0m\u001b[0;34m,\u001b[0m \u001b[0mdtype\u001b[0m\u001b[0;34m=\u001b[0m\u001b[0;34m'string'\u001b[0m \u001b[0;34m)\u001b[0m\u001b[0;34m\u001b[0m\u001b[0;34m\u001b[0m\u001b[0m\n\u001b[1;32m      4\u001b[0m \u001b[0mapi\u001b[0m\u001b[0;34m.\u001b[0m\u001b[0mrename\u001b[0m\u001b[0;34m(\u001b[0m\u001b[0mcolumns\u001b[0m\u001b[0;34m=\u001b[0m\u001b[0;34m{\u001b[0m\u001b[0;34m'raison_sociale'\u001b[0m\u001b[0;34m:\u001b[0m \u001b[0;34m'firmname'\u001b[0m\u001b[0;34m,\u001b[0m \u001b[0;34m'gouvernorat'\u001b[0m \u001b[0;34m:\u001b[0m \u001b[0;34m'governorate'\u001b[0m\u001b[0;34m,\u001b[0m \u001b[0;34m'delegation'\u001b[0m\u001b[0;34m:\u001b[0m\u001b[0;34m'town'\u001b[0m\u001b[0;34m,\u001b[0m \u001b[0;34m'secteur_nat'\u001b[0m\u001b[0;34m:\u001b[0m\u001b[0;34m'sector'\u001b[0m\u001b[0;34m,\u001b[0m \u001b[0;34m'responsable'\u001b[0m\u001b[0;34m:\u001b[0m \u001b[0;34m'name'\u001b[0m\u001b[0;34m,\u001b[0m \u001b[0;34m'effectif_total'\u001b[0m\u001b[0;34m:\u001b[0m\u001b[0;34m'fte'\u001b[0m\u001b[0;34m}\u001b[0m\u001b[0;34m,\u001b[0m \u001b[0minplace\u001b[0m\u001b[0;34m=\u001b[0m\u001b[0;32mTrue\u001b[0m\u001b[0;34m)\u001b[0m\u001b[0;34m\u001b[0m\u001b[0;34m\u001b[0m\u001b[0m\n\u001b[0;32m----> 5\u001b[0;31m \u001b[0mapi\u001b[0m \u001b[0;34m=\u001b[0m \u001b[0mapi\u001b[0m\u001b[0;34m[\u001b[0m\u001b[0;34m[\u001b[0m\u001b[0;34m'firmname'\u001b[0m\u001b[0;34m,\u001b[0m\u001b[0;34m'name'\u001b[0m\u001b[0;34m,\u001b[0m \u001b[0;34m'email'\u001b[0m\u001b[0;34m,\u001b[0m \u001b[0;34m'governorate'\u001b[0m\u001b[0;34m,\u001b[0m \u001b[0;34m'delegation'\u001b[0m\u001b[0;34m,\u001b[0m \u001b[0;34m'sector'\u001b[0m\u001b[0;34m,\u001b[0m\u001b[0;34m'fte'\u001b[0m\u001b[0;34m,\u001b[0m \u001b[0;34m'export'\u001b[0m\u001b[0;34m]\u001b[0m\u001b[0;34m]\u001b[0m\u001b[0;34m\u001b[0m\u001b[0;34m\u001b[0m\u001b[0m\n\u001b[0m\u001b[1;32m      6\u001b[0m \u001b[0mapi\u001b[0m\u001b[0;34m[\u001b[0m\u001b[0;34m'origin'\u001b[0m\u001b[0;34m]\u001b[0m \u001b[0;34m=\u001b[0m \u001b[0;34m'api'\u001b[0m\u001b[0;34m\u001b[0m\u001b[0;34m\u001b[0m\u001b[0m\n\u001b[1;32m      7\u001b[0m \u001b[0mapi\u001b[0m\u001b[0;34m.\u001b[0m\u001b[0mhead\u001b[0m\u001b[0;34m(\u001b[0m\u001b[0;34m)\u001b[0m\u001b[0;34m\u001b[0m\u001b[0;34m\u001b[0m\u001b[0m\n",
      "\u001b[0;32m~/opt/anaconda3/lib/python3.8/site-packages/pandas/core/frame.py\u001b[0m in \u001b[0;36m__getitem__\u001b[0;34m(self, key)\u001b[0m\n\u001b[1;32m   2804\u001b[0m             \u001b[0;32mif\u001b[0m \u001b[0mis_iterator\u001b[0m\u001b[0;34m(\u001b[0m\u001b[0mkey\u001b[0m\u001b[0;34m)\u001b[0m\u001b[0;34m:\u001b[0m\u001b[0;34m\u001b[0m\u001b[0;34m\u001b[0m\u001b[0m\n\u001b[1;32m   2805\u001b[0m                 \u001b[0mkey\u001b[0m \u001b[0;34m=\u001b[0m \u001b[0mlist\u001b[0m\u001b[0;34m(\u001b[0m\u001b[0mkey\u001b[0m\u001b[0;34m)\u001b[0m\u001b[0;34m\u001b[0m\u001b[0;34m\u001b[0m\u001b[0m\n\u001b[0;32m-> 2806\u001b[0;31m             \u001b[0mindexer\u001b[0m \u001b[0;34m=\u001b[0m \u001b[0mself\u001b[0m\u001b[0;34m.\u001b[0m\u001b[0mloc\u001b[0m\u001b[0;34m.\u001b[0m\u001b[0m_get_listlike_indexer\u001b[0m\u001b[0;34m(\u001b[0m\u001b[0mkey\u001b[0m\u001b[0;34m,\u001b[0m \u001b[0maxis\u001b[0m\u001b[0;34m=\u001b[0m\u001b[0;36m1\u001b[0m\u001b[0;34m,\u001b[0m \u001b[0mraise_missing\u001b[0m\u001b[0;34m=\u001b[0m\u001b[0;32mTrue\u001b[0m\u001b[0;34m)\u001b[0m\u001b[0;34m[\u001b[0m\u001b[0;36m1\u001b[0m\u001b[0;34m]\u001b[0m\u001b[0;34m\u001b[0m\u001b[0;34m\u001b[0m\u001b[0m\n\u001b[0m\u001b[1;32m   2807\u001b[0m \u001b[0;34m\u001b[0m\u001b[0m\n\u001b[1;32m   2808\u001b[0m         \u001b[0;31m# take() does not accept boolean indexers\u001b[0m\u001b[0;34m\u001b[0m\u001b[0;34m\u001b[0m\u001b[0;34m\u001b[0m\u001b[0m\n",
      "\u001b[0;32m~/opt/anaconda3/lib/python3.8/site-packages/pandas/core/indexing.py\u001b[0m in \u001b[0;36m_get_listlike_indexer\u001b[0;34m(self, key, axis, raise_missing)\u001b[0m\n\u001b[1;32m   1550\u001b[0m             \u001b[0mkeyarr\u001b[0m\u001b[0;34m,\u001b[0m \u001b[0mindexer\u001b[0m\u001b[0;34m,\u001b[0m \u001b[0mnew_indexer\u001b[0m \u001b[0;34m=\u001b[0m \u001b[0max\u001b[0m\u001b[0;34m.\u001b[0m\u001b[0m_reindex_non_unique\u001b[0m\u001b[0;34m(\u001b[0m\u001b[0mkeyarr\u001b[0m\u001b[0;34m)\u001b[0m\u001b[0;34m\u001b[0m\u001b[0;34m\u001b[0m\u001b[0m\n\u001b[1;32m   1551\u001b[0m \u001b[0;34m\u001b[0m\u001b[0m\n\u001b[0;32m-> 1552\u001b[0;31m         self._validate_read_indexer(\n\u001b[0m\u001b[1;32m   1553\u001b[0m             \u001b[0mkeyarr\u001b[0m\u001b[0;34m,\u001b[0m \u001b[0mindexer\u001b[0m\u001b[0;34m,\u001b[0m \u001b[0mo\u001b[0m\u001b[0;34m.\u001b[0m\u001b[0m_get_axis_number\u001b[0m\u001b[0;34m(\u001b[0m\u001b[0maxis\u001b[0m\u001b[0;34m)\u001b[0m\u001b[0;34m,\u001b[0m \u001b[0mraise_missing\u001b[0m\u001b[0;34m=\u001b[0m\u001b[0mraise_missing\u001b[0m\u001b[0;34m\u001b[0m\u001b[0;34m\u001b[0m\u001b[0m\n\u001b[1;32m   1554\u001b[0m         )\n",
      "\u001b[0;32m~/opt/anaconda3/lib/python3.8/site-packages/pandas/core/indexing.py\u001b[0m in \u001b[0;36m_validate_read_indexer\u001b[0;34m(self, key, indexer, axis, raise_missing)\u001b[0m\n\u001b[1;32m   1644\u001b[0m             \u001b[0;32mif\u001b[0m \u001b[0;32mnot\u001b[0m \u001b[0;34m(\u001b[0m\u001b[0mself\u001b[0m\u001b[0;34m.\u001b[0m\u001b[0mname\u001b[0m \u001b[0;34m==\u001b[0m \u001b[0;34m\"loc\"\u001b[0m \u001b[0;32mand\u001b[0m \u001b[0;32mnot\u001b[0m \u001b[0mraise_missing\u001b[0m\u001b[0;34m)\u001b[0m\u001b[0;34m:\u001b[0m\u001b[0;34m\u001b[0m\u001b[0;34m\u001b[0m\u001b[0m\n\u001b[1;32m   1645\u001b[0m                 \u001b[0mnot_found\u001b[0m \u001b[0;34m=\u001b[0m \u001b[0mlist\u001b[0m\u001b[0;34m(\u001b[0m\u001b[0mset\u001b[0m\u001b[0;34m(\u001b[0m\u001b[0mkey\u001b[0m\u001b[0;34m)\u001b[0m \u001b[0;34m-\u001b[0m \u001b[0mset\u001b[0m\u001b[0;34m(\u001b[0m\u001b[0max\u001b[0m\u001b[0;34m)\u001b[0m\u001b[0;34m)\u001b[0m\u001b[0;34m\u001b[0m\u001b[0;34m\u001b[0m\u001b[0m\n\u001b[0;32m-> 1646\u001b[0;31m                 \u001b[0;32mraise\u001b[0m \u001b[0mKeyError\u001b[0m\u001b[0;34m(\u001b[0m\u001b[0;34mf\"{not_found} not in index\"\u001b[0m\u001b[0;34m)\u001b[0m\u001b[0;34m\u001b[0m\u001b[0;34m\u001b[0m\u001b[0m\n\u001b[0m\u001b[1;32m   1647\u001b[0m \u001b[0;34m\u001b[0m\u001b[0m\n\u001b[1;32m   1648\u001b[0m             \u001b[0;31m# we skip the warning on Categorical/Interval\u001b[0m\u001b[0;34m\u001b[0m\u001b[0;34m\u001b[0m\u001b[0;34m\u001b[0m\u001b[0m\n",
      "\u001b[0;31mKeyError\u001b[0m: \"['delegation'] not in index\""
     ]
    }
   ],
   "source": [
    "# API dataset\n",
    "\n",
    "api = pd.read_csv(os.path.join(gdrive_path,'raw','APII-BD ApiiGizAfrica.csv'), dtype='string' )\n",
    "api.rename(columns={'raison_sociale': 'firmname', 'gouvernorat' : 'governorate', 'delegation':'town', 'secteur_nat':'sector', 'responsable': 'name', 'effectif_total':'fte'}, inplace=True)\n",
    "api = api[['firmname','name', 'email', 'governorate', 'tw', 'sector','fte', 'export']]\n",
    "api['origin'] = 'api'\n",
    "api.head()"
   ]
  },
  {
   "cell_type": "code",
   "execution_count": 7,
   "metadata": {},
   "outputs": [
    {
     "data": {
      "text/html": [
       "<div>\n",
       "<style scoped>\n",
       "    .dataframe tbody tr th:only-of-type {\n",
       "        vertical-align: middle;\n",
       "    }\n",
       "\n",
       "    .dataframe tbody tr th {\n",
       "        vertical-align: top;\n",
       "    }\n",
       "\n",
       "    .dataframe thead th {\n",
       "        text-align: right;\n",
       "    }\n",
       "</style>\n",
       "<table border=\"1\" class=\"dataframe\">\n",
       "  <thead>\n",
       "    <tr style=\"text-align: right;\">\n",
       "      <th></th>\n",
       "      <th>firmname</th>\n",
       "      <th>name</th>\n",
       "      <th>email</th>\n",
       "      <th>origin</th>\n",
       "      <th>firstname</th>\n",
       "      <th>lastname</th>\n",
       "    </tr>\n",
       "  </thead>\n",
       "  <tbody>\n",
       "    <tr>\n",
       "      <th>0</th>\n",
       "      <td>STE METLINE RAS JEBEL TEXTILE</td>\n",
       "      <td>FATHI MOUSSA</td>\n",
       "      <td>meratex.fm@gmail.com</td>\n",
       "      <td>api</td>\n",
       "      <td>FATHI</td>\n",
       "      <td>MOUSSA</td>\n",
       "    </tr>\n",
       "    <tr>\n",
       "      <th>1</th>\n",
       "      <td>STE MODERNE D'ELEVAGE</td>\n",
       "      <td>HATEM BACCAR</td>\n",
       "      <td>sme@planet.tn</td>\n",
       "      <td>api</td>\n",
       "      <td>HATEM</td>\n",
       "      <td>BACCAR</td>\n",
       "    </tr>\n",
       "    <tr>\n",
       "      <th>2</th>\n",
       "      <td>AKWEL MATEUR TUNISIA</td>\n",
       "      <td>YASSINE TAGHOUTI</td>\n",
       "      <td>yassinetaghouti@akwel-automotive.com</td>\n",
       "      <td>api</td>\n",
       "      <td>YASSINE</td>\n",
       "      <td>TAGHOUTI</td>\n",
       "    </tr>\n",
       "    <tr>\n",
       "      <th>3</th>\n",
       "      <td>STE BEN AISSA FRERES</td>\n",
       "      <td>ALI BEN AISSA</td>\n",
       "      <td>benaissa_freres@yahoo.fr</td>\n",
       "      <td>api</td>\n",
       "      <td>ALI</td>\n",
       "      <td>BEN AISSA</td>\n",
       "    </tr>\n",
       "    <tr>\n",
       "      <th>4</th>\n",
       "      <td>ALMES II</td>\n",
       "      <td>MOHAMED BECHIR EL KHIARI</td>\n",
       "      <td>almes.mateur@poulina.com.tn</td>\n",
       "      <td>api</td>\n",
       "      <td>MOHAMED</td>\n",
       "      <td>BECHIR EL KHIARI</td>\n",
       "    </tr>\n",
       "  </tbody>\n",
       "</table>\n",
       "</div>"
      ],
      "text/plain": [
       "                        firmname                      name  \\\n",
       "0  STE METLINE RAS JEBEL TEXTILE              FATHI MOUSSA   \n",
       "1          STE MODERNE D'ELEVAGE              HATEM BACCAR   \n",
       "2           AKWEL MATEUR TUNISIA          YASSINE TAGHOUTI   \n",
       "3           STE BEN AISSA FRERES             ALI BEN AISSA   \n",
       "4                       ALMES II  MOHAMED BECHIR EL KHIARI   \n",
       "\n",
       "                                  email origin firstname          lastname  \n",
       "0                  meratex.fm@gmail.com    api     FATHI            MOUSSA  \n",
       "1                         sme@planet.tn    api     HATEM            BACCAR  \n",
       "2  yassinetaghouti@akwel-automotive.com    api   YASSINE          TAGHOUTI  \n",
       "3              benaissa_freres@yahoo.fr    api       ALI         BEN AISSA  \n",
       "4           almes.mateur@poulina.com.tn    api   MOHAMED  BECHIR EL KHIARI  "
      ]
     },
     "execution_count": 7,
     "metadata": {},
     "output_type": "execute_result"
    }
   ],
   "source": [
    "# Split name into first and last\n",
    "\n",
    "api['name'] = api['name'].str.strip()\n",
    "api[['firstname','lastname']] = api[\"name\"].str.split(\" \", 1, expand=True)\n",
    "api.head()"
   ]
  },
  {
   "cell_type": "code",
   "execution_count": 8,
   "metadata": {},
   "outputs": [
    {
     "data": {
      "text/plain": [
       "(4016, 6)"
      ]
     },
     "execution_count": 8,
     "metadata": {},
     "output_type": "execute_result"
    }
   ],
   "source": [
    "# Plenty of missing emails, drop\n",
    "\n",
    "api = api[api['email'].notna()]\n",
    "api.shape"
   ]
  },
  {
   "cell_type": "code",
   "execution_count": 9,
   "metadata": {},
   "outputs": [
    {
     "data": {
      "text/html": [
       "<div>\n",
       "<style scoped>\n",
       "    .dataframe tbody tr th:only-of-type {\n",
       "        vertical-align: middle;\n",
       "    }\n",
       "\n",
       "    .dataframe tbody tr th {\n",
       "        vertical-align: top;\n",
       "    }\n",
       "\n",
       "    .dataframe thead th {\n",
       "        text-align: right;\n",
       "    }\n",
       "</style>\n",
       "<table border=\"1\" class=\"dataframe\">\n",
       "  <thead>\n",
       "    <tr style=\"text-align: right;\">\n",
       "      <th></th>\n",
       "      <th>firmname</th>\n",
       "      <th>name</th>\n",
       "      <th>email</th>\n",
       "      <th>firstname</th>\n",
       "      <th>lastname</th>\n",
       "      <th>origin</th>\n",
       "    </tr>\n",
       "  </thead>\n",
       "  <tbody>\n",
       "    <tr>\n",
       "      <th>0</th>\n",
       "      <td>3Dwave</td>\n",
       "      <td>Ferid kamel</td>\n",
       "      <td>feridkamel@gmail.com</td>\n",
       "      <td>Ferid</td>\n",
       "      <td>kamel</td>\n",
       "      <td>pema</td>\n",
       "    </tr>\n",
       "    <tr>\n",
       "      <th>1</th>\n",
       "      <td>ABAPLAST</td>\n",
       "      <td>Akram Ben amor</td>\n",
       "      <td>abaplast@topnet.tn</td>\n",
       "      <td>Akram</td>\n",
       "      <td>Ben amor</td>\n",
       "      <td>pema</td>\n",
       "    </tr>\n",
       "    <tr>\n",
       "      <th>2</th>\n",
       "      <td>ABIN CONSULTING</td>\n",
       "      <td>Elyes Grar</td>\n",
       "      <td>elyesgrar@gmail.com</td>\n",
       "      <td>Elyes</td>\n",
       "      <td>Grar</td>\n",
       "      <td>pema</td>\n",
       "    </tr>\n",
       "    <tr>\n",
       "      <th>3</th>\n",
       "      <td>ABP</td>\n",
       "      <td>Ayda Bouassida</td>\n",
       "      <td>aydabouassidaa@gmail.com</td>\n",
       "      <td>Ayda</td>\n",
       "      <td>Bouassida</td>\n",
       "      <td>pema</td>\n",
       "    </tr>\n",
       "    <tr>\n",
       "      <th>4</th>\n",
       "      <td>ABSHORE</td>\n",
       "      <td>Asma Mechri</td>\n",
       "      <td>asma.mechri@abshore.com</td>\n",
       "      <td>Asma</td>\n",
       "      <td>Mechri</td>\n",
       "      <td>pema</td>\n",
       "    </tr>\n",
       "  </tbody>\n",
       "</table>\n",
       "</div>"
      ],
      "text/plain": [
       "          firmname            name                     email firstname  \\\n",
       "0           3Dwave     Ferid kamel      feridkamel@gmail.com     Ferid   \n",
       "1         ABAPLAST  Akram Ben amor        abaplast@topnet.tn     Akram   \n",
       "2  ABIN CONSULTING      Elyes Grar       elyesgrar@gmail.com     Elyes   \n",
       "3              ABP  Ayda Bouassida  aydabouassidaa@gmail.com      Ayda   \n",
       "4          ABSHORE     Asma Mechri   asma.mechri@abshore.com      Asma   \n",
       "\n",
       "    lastname origin  \n",
       "0      kamel   pema  \n",
       "1   Ben amor   pema  \n",
       "2       Grar   pema  \n",
       "3  Bouassida   pema  \n",
       "4     Mechri   pema  "
      ]
     },
     "execution_count": 9,
     "metadata": {},
     "output_type": "execute_result"
    }
   ],
   "source": [
    "# Merge\n",
    "\n",
    "frames = [pema, pema2, api]\n",
    "\n",
    "df = pd.concat(frames)\n",
    "df.head()"
   ]
  },
  {
   "cell_type": "markdown",
   "metadata": {},
   "source": [
    "## Part 3  \n",
    "#### Load gendered names lists and merge"
   ]
  },
  {
   "cell_type": "code",
   "execution_count": 10,
   "metadata": {},
   "outputs": [
    {
     "data": {
      "text/html": [
       "<div>\n",
       "<style scoped>\n",
       "    .dataframe tbody tr th:only-of-type {\n",
       "        vertical-align: middle;\n",
       "    }\n",
       "\n",
       "    .dataframe tbody tr th {\n",
       "        vertical-align: top;\n",
       "    }\n",
       "\n",
       "    .dataframe thead th {\n",
       "        text-align: right;\n",
       "    }\n",
       "</style>\n",
       "<table border=\"1\" class=\"dataframe\">\n",
       "  <thead>\n",
       "    <tr style=\"text-align: right;\">\n",
       "      <th></th>\n",
       "      <th>firstname</th>\n",
       "      <th>gender</th>\n",
       "    </tr>\n",
       "  </thead>\n",
       "  <tbody>\n",
       "    <tr>\n",
       "      <th>0</th>\n",
       "      <td>aaliyah</td>\n",
       "      <td>f</td>\n",
       "    </tr>\n",
       "    <tr>\n",
       "      <th>1</th>\n",
       "      <td>aapeli</td>\n",
       "      <td>m</td>\n",
       "    </tr>\n",
       "    <tr>\n",
       "      <th>2</th>\n",
       "      <td>aapo</td>\n",
       "      <td>m</td>\n",
       "    </tr>\n",
       "    <tr>\n",
       "      <th>3</th>\n",
       "      <td>aaren</td>\n",
       "      <td>m,f</td>\n",
       "    </tr>\n",
       "    <tr>\n",
       "      <th>4</th>\n",
       "      <td>aarne</td>\n",
       "      <td>m</td>\n",
       "    </tr>\n",
       "  </tbody>\n",
       "</table>\n",
       "</div>"
      ],
      "text/plain": [
       "  firstname gender\n",
       "0   aaliyah      f\n",
       "1    aapeli      m\n",
       "2      aapo      m\n",
       "3     aaren    m,f\n",
       "4     aarne      m"
      ]
     },
     "execution_count": 10,
     "metadata": {},
     "output_type": "execute_result"
    }
   ],
   "source": [
    "# Load list of names from French gov't  (from https://www.data.gouv.fr/fr/datasets/liste-de-prenoms/)\n",
    "\n",
    "fra_names = pd.read_csv(os.path.join(gdrive_path,'raw','names_france.csv'), encoding= \"utf-8\")\n",
    "fra_names = fra_names[['01_prenom', '02_genre']]\n",
    "fra_names.rename(columns={'01_prenom': 'firstname', '02_genre': 'gender', '03_langage': 'language', '04_fréquence': 'freq'}, inplace=True)\n",
    "fra_names.head()"
   ]
  },
  {
   "cell_type": "code",
   "execution_count": 11,
   "metadata": {},
   "outputs": [],
   "source": [
    "fra_names['gender'] = fra_names['gender'].str.replace('m','male')\n",
    "fra_names['gender'] = fra_names['gender'].str.replace('f','female')\n",
    "fra_names['gender'] = fra_names['gender'].str.replace('m,f','mostly male')\n",
    "fra_names['gender'] = fra_names['gender'].str.replace('f,m','mostly female')"
   ]
  },
  {
   "cell_type": "code",
   "execution_count": 15,
   "metadata": {},
   "outputs": [
    {
     "data": {
      "text/plain": [
       "male           5878\n",
       "female         5313\n",
       "male,female     289\n",
       "female,male     147\n",
       "Name: gender, dtype: int64"
      ]
     },
     "execution_count": 15,
     "metadata": {},
     "output_type": "execute_result"
    }
   ],
   "source": [
    "fra_names['gender'].value_counts()"
   ]
  },
  {
   "cell_type": "code",
   "execution_count": 16,
   "metadata": {},
   "outputs": [
    {
     "data": {
      "text/html": [
       "<div>\n",
       "<style scoped>\n",
       "    .dataframe tbody tr th:only-of-type {\n",
       "        vertical-align: middle;\n",
       "    }\n",
       "\n",
       "    .dataframe tbody tr th {\n",
       "        vertical-align: top;\n",
       "    }\n",
       "\n",
       "    .dataframe thead th {\n",
       "        text-align: right;\n",
       "    }\n",
       "</style>\n",
       "<table border=\"1\" class=\"dataframe\">\n",
       "  <thead>\n",
       "    <tr style=\"text-align: right;\">\n",
       "      <th></th>\n",
       "      <th>firstname</th>\n",
       "      <th>gender</th>\n",
       "    </tr>\n",
       "  </thead>\n",
       "  <tbody>\n",
       "    <tr>\n",
       "      <th>0</th>\n",
       "      <td>Abosaymah</td>\n",
       "      <td>M</td>\n",
       "    </tr>\n",
       "    <tr>\n",
       "      <th>1</th>\n",
       "      <td>Aboussaima</td>\n",
       "      <td>M</td>\n",
       "    </tr>\n",
       "    <tr>\n",
       "      <th>2</th>\n",
       "      <td>Albastji</td>\n",
       "      <td>M</td>\n",
       "    </tr>\n",
       "    <tr>\n",
       "      <th>3</th>\n",
       "      <td>Elbestdji</td>\n",
       "      <td>M</td>\n",
       "    </tr>\n",
       "    <tr>\n",
       "      <th>4</th>\n",
       "      <td>Albastaji</td>\n",
       "      <td>M</td>\n",
       "    </tr>\n",
       "  </tbody>\n",
       "</table>\n",
       "</div>"
      ],
      "text/plain": [
       "    firstname gender\n",
       "0   Abosaymah      M\n",
       "1  Aboussaima      M\n",
       "2    Albastji      M\n",
       "3   Elbestdji      M\n",
       "4   Albastaji      M"
      ]
     },
     "execution_count": 16,
     "metadata": {},
     "output_type": "execute_result"
    }
   ],
   "source": [
    "# Load list of names from Kalmasoft\n",
    "\n",
    "names = pd.read_csv(os.path.join(gdrive_path,'raw','KDBGIVE.txt'), engine='python', skiprows=81, sep='\\t+')\n",
    "names = names[['Roman', 'Gender']]\n",
    "names.rename(columns={'Roman': 'firstname', 'Gender': 'gender'}, inplace=True)\n",
    "names.head()"
   ]
  },
  {
   "cell_type": "code",
   "execution_count": 18,
   "metadata": {},
   "outputs": [
    {
     "data": {
      "text/plain": [
       "male      502\n",
       "female    152\n",
       "Name: gender, dtype: int64"
      ]
     },
     "execution_count": 18,
     "metadata": {},
     "output_type": "execute_result"
    }
   ],
   "source": [
    "names['gender'] = names['gender'].str.replace('M','male')\n",
    "names['gender'] = names['gender'].str.replace('F','female')\n",
    "names['gender'].value_counts()"
   ]
  },
  {
   "cell_type": "code",
   "execution_count": 19,
   "metadata": {},
   "outputs": [
    {
     "data": {
      "text/html": [
       "<div>\n",
       "<style scoped>\n",
       "    .dataframe tbody tr th:only-of-type {\n",
       "        vertical-align: middle;\n",
       "    }\n",
       "\n",
       "    .dataframe tbody tr th {\n",
       "        vertical-align: top;\n",
       "    }\n",
       "\n",
       "    .dataframe thead th {\n",
       "        text-align: right;\n",
       "    }\n",
       "</style>\n",
       "<table border=\"1\" class=\"dataframe\">\n",
       "  <thead>\n",
       "    <tr style=\"text-align: right;\">\n",
       "      <th></th>\n",
       "      <th>firstname</th>\n",
       "      <th>_freq</th>\n",
       "      <th>gender</th>\n",
       "    </tr>\n",
       "  </thead>\n",
       "  <tbody>\n",
       "    <tr>\n",
       "      <th>0</th>\n",
       "      <td>Abbes</td>\n",
       "      <td>1</td>\n",
       "      <td>M</td>\n",
       "    </tr>\n",
       "    <tr>\n",
       "      <th>1</th>\n",
       "      <td>Abdderazek</td>\n",
       "      <td>1</td>\n",
       "      <td>M</td>\n",
       "    </tr>\n",
       "    <tr>\n",
       "      <th>2</th>\n",
       "      <td>Abdeladel</td>\n",
       "      <td>1</td>\n",
       "      <td>M</td>\n",
       "    </tr>\n",
       "    <tr>\n",
       "      <th>3</th>\n",
       "      <td>Abdelamjid</td>\n",
       "      <td>1</td>\n",
       "      <td>M</td>\n",
       "    </tr>\n",
       "    <tr>\n",
       "      <th>4</th>\n",
       "      <td>Abdelatif</td>\n",
       "      <td>1</td>\n",
       "      <td>M</td>\n",
       "    </tr>\n",
       "  </tbody>\n",
       "</table>\n",
       "</div>"
      ],
      "text/plain": [
       "    firstname  _freq gender\n",
       "0       Abbes      1      M\n",
       "1  Abdderazek      1      M\n",
       "2   Abdeladel      1      M\n",
       "3  Abdelamjid      1      M\n",
       "4   Abdelatif      1      M"
      ]
     },
     "execution_count": 19,
     "metadata": {},
     "output_type": "execute_result"
    }
   ],
   "source": [
    "# Load list of names from Florian (1)\n",
    "\n",
    "missing_names = pd.read_csv(os.path.join(gdrive_path,'raw','noms_manquants.csv'), encoding= \"utf-8\")\n",
    "missing_names.head()"
   ]
  },
  {
   "cell_type": "code",
   "execution_count": 21,
   "metadata": {},
   "outputs": [
    {
     "data": {
      "text/plain": [
       "male       276\n",
       "unknown     63\n",
       "female      49\n",
       "Name: gender, dtype: int64"
      ]
     },
     "execution_count": 21,
     "metadata": {},
     "output_type": "execute_result"
    }
   ],
   "source": [
    "missing_names['gender'] = missing_names['gender'].str.replace('M','male')\n",
    "missing_names['gender'] = missing_names['gender'].str.replace('F','female')\n",
    "missing_names['gender'] = missing_names['gender'].str.replace('?','unknown')\n",
    "missing_names['gender'].value_counts()"
   ]
  },
  {
   "cell_type": "code",
   "execution_count": 22,
   "metadata": {},
   "outputs": [
    {
     "data": {
      "text/html": [
       "<div>\n",
       "<style scoped>\n",
       "    .dataframe tbody tr th:only-of-type {\n",
       "        vertical-align: middle;\n",
       "    }\n",
       "\n",
       "    .dataframe tbody tr th {\n",
       "        vertical-align: top;\n",
       "    }\n",
       "\n",
       "    .dataframe thead th {\n",
       "        text-align: right;\n",
       "    }\n",
       "</style>\n",
       "<table border=\"1\" class=\"dataframe\">\n",
       "  <thead>\n",
       "    <tr style=\"text-align: right;\">\n",
       "      <th></th>\n",
       "      <th>firstname</th>\n",
       "      <th>gender</th>\n",
       "    </tr>\n",
       "  </thead>\n",
       "  <tbody>\n",
       "    <tr>\n",
       "      <th>0</th>\n",
       "      <td>aaban</td>\n",
       "      <td>M</td>\n",
       "    </tr>\n",
       "    <tr>\n",
       "      <th>1</th>\n",
       "      <td>aabid</td>\n",
       "      <td>M</td>\n",
       "    </tr>\n",
       "    <tr>\n",
       "      <th>2</th>\n",
       "      <td>aadil</td>\n",
       "      <td>M</td>\n",
       "    </tr>\n",
       "    <tr>\n",
       "      <th>3</th>\n",
       "      <td>aahil</td>\n",
       "      <td>M</td>\n",
       "    </tr>\n",
       "    <tr>\n",
       "      <th>4</th>\n",
       "      <td>aalam</td>\n",
       "      <td>M</td>\n",
       "    </tr>\n",
       "  </tbody>\n",
       "</table>\n",
       "</div>"
      ],
      "text/plain": [
       "  firstname gender\n",
       "0     aaban      M\n",
       "1     aabid      M\n",
       "2     aadil      M\n",
       "3     aahil      M\n",
       "4     aalam      M"
      ]
     },
     "execution_count": 22,
     "metadata": {},
     "output_type": "execute_result"
    }
   ],
   "source": [
    "# Load list of names from Florian (2)\n",
    "\n",
    "male_names = pd.read_csv(os.path.join(gdrive_path,'raw','males.csv'), encoding= \"utf-8\")\n",
    "male_names.rename(columns={'Name': 'firstname', 'Gender': 'gender'}, inplace=True)\n",
    "male_names.head()"
   ]
  },
  {
   "cell_type": "code",
   "execution_count": 24,
   "metadata": {},
   "outputs": [
    {
     "data": {
      "text/plain": [
       "male    2066\n",
       "Name: gender, dtype: int64"
      ]
     },
     "execution_count": 24,
     "metadata": {},
     "output_type": "execute_result"
    }
   ],
   "source": [
    "male_names['gender'] = male_names['gender'].str.replace('M','male')\n",
    "male_names['gender'].value_counts()"
   ]
  },
  {
   "cell_type": "code",
   "execution_count": 25,
   "metadata": {},
   "outputs": [
    {
     "data": {
      "text/html": [
       "<div>\n",
       "<style scoped>\n",
       "    .dataframe tbody tr th:only-of-type {\n",
       "        vertical-align: middle;\n",
       "    }\n",
       "\n",
       "    .dataframe tbody tr th {\n",
       "        vertical-align: top;\n",
       "    }\n",
       "\n",
       "    .dataframe thead th {\n",
       "        text-align: right;\n",
       "    }\n",
       "</style>\n",
       "<table border=\"1\" class=\"dataframe\">\n",
       "  <thead>\n",
       "    <tr style=\"text-align: right;\">\n",
       "      <th></th>\n",
       "      <th>firstname</th>\n",
       "      <th>gender</th>\n",
       "    </tr>\n",
       "  </thead>\n",
       "  <tbody>\n",
       "    <tr>\n",
       "      <th>0</th>\n",
       "      <td>aabidah</td>\n",
       "      <td>F</td>\n",
       "    </tr>\n",
       "    <tr>\n",
       "      <th>1</th>\n",
       "      <td>aabirah</td>\n",
       "      <td>F</td>\n",
       "    </tr>\n",
       "    <tr>\n",
       "      <th>2</th>\n",
       "      <td>aabish</td>\n",
       "      <td>F</td>\n",
       "    </tr>\n",
       "    <tr>\n",
       "      <th>3</th>\n",
       "      <td>aadab</td>\n",
       "      <td>F</td>\n",
       "    </tr>\n",
       "    <tr>\n",
       "      <th>4</th>\n",
       "      <td>aadila</td>\n",
       "      <td>F</td>\n",
       "    </tr>\n",
       "  </tbody>\n",
       "</table>\n",
       "</div>"
      ],
      "text/plain": [
       "  firstname gender\n",
       "0   aabidah      F\n",
       "1   aabirah      F\n",
       "2    aabish      F\n",
       "3     aadab      F\n",
       "4    aadila      F"
      ]
     },
     "execution_count": 25,
     "metadata": {},
     "output_type": "execute_result"
    }
   ],
   "source": [
    "# Load list of names from Florian (2)\n",
    "\n",
    "female_names = pd.read_csv(os.path.join(gdrive_path,'raw','females.csv'), encoding= \"utf-8\")\n",
    "female_names.rename(columns={'Name': 'firstname', 'Gender': 'gender'}, inplace=True)\n",
    "female_names.head()"
   ]
  },
  {
   "cell_type": "code",
   "execution_count": 27,
   "metadata": {},
   "outputs": [
    {
     "data": {
      "text/plain": [
       "female    2445\n",
       "Name: gender, dtype: int64"
      ]
     },
     "execution_count": 27,
     "metadata": {},
     "output_type": "execute_result"
    }
   ],
   "source": [
    "female_names['gender'] = female_names['gender'].str.replace('F','female')\n",
    "female_names['gender'].value_counts()"
   ]
  },
  {
   "cell_type": "markdown",
   "metadata": {},
   "source": [
    "#### Merge all datasets"
   ]
  },
  {
   "cell_type": "code",
   "execution_count": 28,
   "metadata": {},
   "outputs": [
    {
     "data": {
      "text/html": [
       "<div>\n",
       "<style scoped>\n",
       "    .dataframe tbody tr th:only-of-type {\n",
       "        vertical-align: middle;\n",
       "    }\n",
       "\n",
       "    .dataframe tbody tr th {\n",
       "        vertical-align: top;\n",
       "    }\n",
       "\n",
       "    .dataframe thead th {\n",
       "        text-align: right;\n",
       "    }\n",
       "</style>\n",
       "<table border=\"1\" class=\"dataframe\">\n",
       "  <thead>\n",
       "    <tr style=\"text-align: right;\">\n",
       "      <th></th>\n",
       "      <th>firstname</th>\n",
       "      <th>gender</th>\n",
       "    </tr>\n",
       "  </thead>\n",
       "  <tbody>\n",
       "    <tr>\n",
       "      <th>0</th>\n",
       "      <td>aabidah</td>\n",
       "      <td>female</td>\n",
       "    </tr>\n",
       "    <tr>\n",
       "      <th>1</th>\n",
       "      <td>aabirah</td>\n",
       "      <td>female</td>\n",
       "    </tr>\n",
       "    <tr>\n",
       "      <th>2</th>\n",
       "      <td>aabish</td>\n",
       "      <td>female</td>\n",
       "    </tr>\n",
       "    <tr>\n",
       "      <th>3</th>\n",
       "      <td>aadab</td>\n",
       "      <td>female</td>\n",
       "    </tr>\n",
       "    <tr>\n",
       "      <th>4</th>\n",
       "      <td>aadila</td>\n",
       "      <td>female</td>\n",
       "    </tr>\n",
       "  </tbody>\n",
       "</table>\n",
       "</div>"
      ],
      "text/plain": [
       "  firstname  gender\n",
       "0   aabidah  female\n",
       "1   aabirah  female\n",
       "2    aabish  female\n",
       "3     aadab  female\n",
       "4    aadila  female"
      ]
     },
     "execution_count": 28,
     "metadata": {},
     "output_type": "execute_result"
    }
   ],
   "source": [
    "frames = [female_names, male_names, missing_names, names, fra_names]\n",
    "\n",
    "df_names = pd.concat(frames)\n",
    "df_names = df_names[['firstname', 'gender']]\n",
    "df_names.head()"
   ]
  },
  {
   "cell_type": "markdown",
   "metadata": {},
   "source": [
    "#### Some cleaning and dropping duplicates"
   ]
  },
  {
   "cell_type": "code",
   "execution_count": 29,
   "metadata": {},
   "outputs": [
    {
     "data": {
      "text/plain": [
       "(17180, 2)"
      ]
     },
     "execution_count": 29,
     "metadata": {},
     "output_type": "execute_result"
    }
   ],
   "source": [
    "# Trim names\n",
    "\n",
    "df_names['firstname'] = df_names['firstname'].str.strip()\n",
    "\n",
    "# Normalize key accents\n",
    "\n",
    "repl = str.maketrans(\n",
    "    \"áéúíóçèîêàöëù\",\n",
    "    \"aeuioceieaoeu\"\n",
    ")\n",
    "\n",
    "df_names['firstname'] = df_names['firstname'].str.translate(repl)\n",
    "\n",
    "df_names.shape"
   ]
  },
  {
   "cell_type": "code",
   "execution_count": 30,
   "metadata": {},
   "outputs": [],
   "source": [
    "# Lower case first names and gender: \n",
    "\n",
    "df_names = df_names.applymap(lambda x: x.lower() if type(x) == str else x)\n",
    "\n",
    "# Recapitalize first names: \n",
    "\n",
    "df_names['firstname'] = df_names['firstname'].apply(lambda x: x.capitalize() if type(x) == str else x) "
   ]
  },
  {
   "cell_type": "code",
   "execution_count": 31,
   "metadata": {},
   "outputs": [
    {
     "data": {
      "text/plain": [
       "(16421, 2)"
      ]
     },
     "execution_count": 31,
     "metadata": {},
     "output_type": "execute_result"
    }
   ],
   "source": [
    "# Drop NAs\n",
    "\n",
    "df_names = df_names[df_names['firstname'].notna()]\n",
    "\n",
    "df_names = df_names.drop_duplicates(subset='firstname', keep=\"first\")\n",
    "\n",
    "df_names.shape"
   ]
  },
  {
   "cell_type": "markdown",
   "metadata": {},
   "source": [
    "## Part 5:\n",
    "#### Export files  \n",
    "Using Excel to avoid spacing issues "
   ]
  },
  {
   "cell_type": "code",
   "execution_count": 32,
   "metadata": {},
   "outputs": [],
   "source": [
    "# Export to csv\n",
    "\n",
    "df.to_csv(os.path.join(gdrive_path,'intermediate','giz_contact_list_ungendered.csv'))\n",
    "df_names.to_csv(os.path.join(gdrive_path,'intermediate','gendered_names.csv'))"
   ]
  }
 ],
 "metadata": {
  "kernelspec": {
   "display_name": "Python 3",
   "language": "python",
   "name": "python3"
  },
  "language_info": {
   "codemirror_mode": {
    "name": "ipython",
    "version": 3
   },
   "file_extension": ".py",
   "mimetype": "text/x-python",
   "name": "python",
   "nbconvert_exporter": "python",
   "pygments_lexer": "ipython3",
   "version": "3.8.3"
  }
 },
 "nbformat": 4,
 "nbformat_minor": 4
}
