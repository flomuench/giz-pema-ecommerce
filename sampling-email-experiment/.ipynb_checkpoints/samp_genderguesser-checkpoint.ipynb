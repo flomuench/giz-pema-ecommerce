{
 "cells": [
  {
   "cell_type": "markdown",
   "metadata": {},
   "source": [
    "## Gender guesser do file  \n",
    "\n",
    "#### Purpose: take list of contacts provided by GIZ and guess their gender based on first names\n",
    "Outline:   \n",
    "Part 1: Set up paths, import necessary packages  \n",
    "Part 2: Load datasets (contact lists provided by GIZ and gendered name lists)  \n",
    "Part 3: Run gender-guesser package  \n",
    "Part 4: Fuzzy matching with existing gendered names lists to guess gender of remaining names  \n",
    "Part 5: Export results"
   ]
  },
  {
   "cell_type": "markdown",
   "metadata": {},
   "source": [
    "## Part 1\n",
    "#### Download any necessary packages, import and set up paths"
   ]
  },
  {
   "cell_type": "code",
   "execution_count": 47,
   "metadata": {},
   "outputs": [],
   "source": [
    "## Install these packages if you don't have them already (remove the #)\n",
    "\n",
    "#!pip install gender_guesser\n",
    "#!pip install earthpy\n",
    "#!pip install fuzzywuzzy\n",
    "#!pip install python-Levenshtein"
   ]
  },
  {
   "cell_type": "code",
   "execution_count": 10,
   "metadata": {},
   "outputs": [],
   "source": [
    "import csv\n",
    "import pandas as pd\n",
    "import re\n",
    "import gender_guesser.detector as gender\n",
    "import os\n",
    "import earthpy as et\n",
    "import fuzzywuzzy\n",
    "from fuzzywuzzy import fuzz\n",
    "from fuzzywuzzy import process"
   ]
  },
  {
   "cell_type": "code",
   "execution_count": 11,
   "metadata": {},
   "outputs": [],
   "source": [
    "github_path = os.path.join(et.io.HOME, \"Documents\",\"GitHub\",\"giz-pema-ecommerce\",\"sampling-email-experiment\")\n",
    "\n",
    "try:\n",
    "    gdrive_path = os.path.join(et.io.HOME, \"Google Drive\", \"Research_GIZ_Tunisia_exportpromotion\",\"1. Intervention I – E-commerce\",\"data\",\"0-sampling-email-experiment\")\n",
    "    os.chdir(gdrive_path)\n",
    "except:\n",
    "    gdrive_path = os.path.join(et.io.HOME, \"Google Drive\",\"My Drive\", \"Research_GIZ_Tunisia_exportpromotion\",\"1. Intervention I – E-commerce\",\"data\",\"0-sampling-email-experiment\")"
   ]
  },
  {
   "cell_type": "markdown",
   "metadata": {},
   "source": [
    "## Part 2\n",
    "\n",
    "#### Load datasets "
   ]
  },
  {
   "cell_type": "code",
   "execution_count": 12,
   "metadata": {},
   "outputs": [
    {
     "data": {
      "text/html": [
       "<div>\n",
       "<style scoped>\n",
       "    .dataframe tbody tr th:only-of-type {\n",
       "        vertical-align: middle;\n",
       "    }\n",
       "\n",
       "    .dataframe tbody tr th {\n",
       "        vertical-align: top;\n",
       "    }\n",
       "\n",
       "    .dataframe thead th {\n",
       "        text-align: right;\n",
       "    }\n",
       "</style>\n",
       "<table border=\"1\" class=\"dataframe\">\n",
       "  <thead>\n",
       "    <tr style=\"text-align: right;\">\n",
       "      <th></th>\n",
       "      <th>Unnamed: 0</th>\n",
       "      <th>firmname</th>\n",
       "      <th>name</th>\n",
       "      <th>email</th>\n",
       "      <th>firstname</th>\n",
       "      <th>lastname</th>\n",
       "      <th>origin</th>\n",
       "      <th>governorate</th>\n",
       "      <th>town</th>\n",
       "      <th>sector</th>\n",
       "      <th>fte</th>\n",
       "      <th>export</th>\n",
       "    </tr>\n",
       "  </thead>\n",
       "  <tbody>\n",
       "    <tr>\n",
       "      <th>0</th>\n",
       "      <td>0</td>\n",
       "      <td>3dwave</td>\n",
       "      <td>Ferid kamel</td>\n",
       "      <td>feridkamel@gmail.com</td>\n",
       "      <td>Ferid</td>\n",
       "      <td>Kamel</td>\n",
       "      <td>pema</td>\n",
       "      <td>&lt;NA&gt;</td>\n",
       "      <td>&lt;NA&gt;</td>\n",
       "      <td>&lt;NA&gt;</td>\n",
       "      <td>&lt;NA&gt;</td>\n",
       "      <td>&lt;NA&gt;</td>\n",
       "    </tr>\n",
       "    <tr>\n",
       "      <th>1</th>\n",
       "      <td>1</td>\n",
       "      <td>abaplast</td>\n",
       "      <td>Akram Ben amor</td>\n",
       "      <td>abaplast@topnet.tn</td>\n",
       "      <td>Akram</td>\n",
       "      <td>Ben amor</td>\n",
       "      <td>pema</td>\n",
       "      <td>&lt;NA&gt;</td>\n",
       "      <td>&lt;NA&gt;</td>\n",
       "      <td>&lt;NA&gt;</td>\n",
       "      <td>&lt;NA&gt;</td>\n",
       "      <td>&lt;NA&gt;</td>\n",
       "    </tr>\n",
       "    <tr>\n",
       "      <th>2</th>\n",
       "      <td>2</td>\n",
       "      <td>abin consulting</td>\n",
       "      <td>Elyes Grar</td>\n",
       "      <td>elyesgrar@gmail.com</td>\n",
       "      <td>Elyes</td>\n",
       "      <td>Grar</td>\n",
       "      <td>pema</td>\n",
       "      <td>&lt;NA&gt;</td>\n",
       "      <td>&lt;NA&gt;</td>\n",
       "      <td>&lt;NA&gt;</td>\n",
       "      <td>&lt;NA&gt;</td>\n",
       "      <td>&lt;NA&gt;</td>\n",
       "    </tr>\n",
       "    <tr>\n",
       "      <th>3</th>\n",
       "      <td>3</td>\n",
       "      <td>abp</td>\n",
       "      <td>Ayda Bouassida</td>\n",
       "      <td>aydabouassidaa@gmail.com</td>\n",
       "      <td>Ayda</td>\n",
       "      <td>Bouassida</td>\n",
       "      <td>pema</td>\n",
       "      <td>&lt;NA&gt;</td>\n",
       "      <td>&lt;NA&gt;</td>\n",
       "      <td>&lt;NA&gt;</td>\n",
       "      <td>&lt;NA&gt;</td>\n",
       "      <td>&lt;NA&gt;</td>\n",
       "    </tr>\n",
       "    <tr>\n",
       "      <th>4</th>\n",
       "      <td>4</td>\n",
       "      <td>abshore</td>\n",
       "      <td>Asma Mechri</td>\n",
       "      <td>asma.mechri@abshore.com</td>\n",
       "      <td>Asma</td>\n",
       "      <td>Mechri</td>\n",
       "      <td>pema</td>\n",
       "      <td>&lt;NA&gt;</td>\n",
       "      <td>&lt;NA&gt;</td>\n",
       "      <td>&lt;NA&gt;</td>\n",
       "      <td>&lt;NA&gt;</td>\n",
       "      <td>&lt;NA&gt;</td>\n",
       "    </tr>\n",
       "  </tbody>\n",
       "</table>\n",
       "</div>"
      ],
      "text/plain": [
       "  Unnamed: 0         firmname            name                     email  \\\n",
       "0          0           3dwave     Ferid kamel      feridkamel@gmail.com   \n",
       "1          1         abaplast  Akram Ben amor        abaplast@topnet.tn   \n",
       "2          2  abin consulting      Elyes Grar       elyesgrar@gmail.com   \n",
       "3          3              abp  Ayda Bouassida  aydabouassidaa@gmail.com   \n",
       "4          4          abshore     Asma Mechri   asma.mechri@abshore.com   \n",
       "\n",
       "  firstname   lastname origin governorate  town sector   fte export  \n",
       "0     Ferid      Kamel   pema        <NA>  <NA>   <NA>  <NA>   <NA>  \n",
       "1     Akram   Ben amor   pema        <NA>  <NA>   <NA>  <NA>   <NA>  \n",
       "2     Elyes       Grar   pema        <NA>  <NA>   <NA>  <NA>   <NA>  \n",
       "3      Ayda  Bouassida   pema        <NA>  <NA>   <NA>  <NA>   <NA>  \n",
       "4      Asma     Mechri   pema        <NA>  <NA>   <NA>  <NA>   <NA>  "
      ]
     },
     "execution_count": 12,
     "metadata": {},
     "output_type": "execute_result"
    }
   ],
   "source": [
    "## GIZ contact list (ungendered)\n",
    "\n",
    "contacts = pd.read_csv(os.path.join(gdrive_path,'intermediate','giz_contact_list_ungendered.csv'), dtype='string' )\n",
    "contacts.head()"
   ]
  },
  {
   "cell_type": "code",
   "execution_count": 13,
   "metadata": {},
   "outputs": [
    {
     "data": {
      "text/html": [
       "<div>\n",
       "<style scoped>\n",
       "    .dataframe tbody tr th:only-of-type {\n",
       "        vertical-align: middle;\n",
       "    }\n",
       "\n",
       "    .dataframe tbody tr th {\n",
       "        vertical-align: top;\n",
       "    }\n",
       "\n",
       "    .dataframe thead th {\n",
       "        text-align: right;\n",
       "    }\n",
       "</style>\n",
       "<table border=\"1\" class=\"dataframe\">\n",
       "  <thead>\n",
       "    <tr style=\"text-align: right;\">\n",
       "      <th></th>\n",
       "      <th>firstname</th>\n",
       "      <th>gender</th>\n",
       "    </tr>\n",
       "  </thead>\n",
       "  <tbody>\n",
       "    <tr>\n",
       "      <th>0</th>\n",
       "      <td>'آمال قاسم حرم</td>\n",
       "      <td>female</td>\n",
       "    </tr>\n",
       "    <tr>\n",
       "      <th>1</th>\n",
       "      <td>'أنيس</td>\n",
       "      <td>male</td>\n",
       "    </tr>\n",
       "    <tr>\n",
       "      <th>2</th>\n",
       "      <td>'رابح</td>\n",
       "      <td>male</td>\n",
       "    </tr>\n",
       "    <tr>\n",
       "      <th>3</th>\n",
       "      <td>سحر</td>\n",
       "      <td>unknown</td>\n",
       "    </tr>\n",
       "    <tr>\n",
       "      <th>4</th>\n",
       "      <td>'قرفال</td>\n",
       "      <td>unknown</td>\n",
       "    </tr>\n",
       "  </tbody>\n",
       "</table>\n",
       "</div>"
      ],
      "text/plain": [
       "        firstname   gender\n",
       "0  'آمال قاسم حرم   female\n",
       "1           'أنيس     male\n",
       "2           'رابح     male\n",
       "3             سحر  unknown\n",
       "4          'قرفال  unknown"
      ]
     },
     "execution_count": 13,
     "metadata": {},
     "output_type": "execute_result"
    }
   ],
   "source": [
    "## Gendered names list\n",
    "\n",
    "names = pd.read_csv(os.path.join(gdrive_path,'intermediate','gendered_names.csv'), dtype='string' )\n",
    "names = names[['firstname','gender']]\n",
    "names.head()"
   ]
  },
  {
   "cell_type": "markdown",
   "metadata": {},
   "source": [
    "## Part 3\n",
    "#### Fuzzy matching with existing gendered names lists to guess gender  \n",
    "Start with raw matching, then fuzzy matching"
   ]
  },
  {
   "cell_type": "code",
   "execution_count": 34,
   "metadata": {},
   "outputs": [
    {
     "data": {
      "text/plain": [
       "male           3058\n",
       "female          704\n",
       "unknown          36\n",
       "incomplete        8\n",
       "not_a_name        4\n",
       "male,female       1\n",
       "Name: gender, dtype: Int64"
      ]
     },
     "execution_count": 34,
     "metadata": {},
     "output_type": "execute_result"
    }
   ],
   "source": [
    "df_new = pd.merge(contacts, names, how='left', on='firstname')\n",
    "df_new['gender'].value_counts()"
   ]
  },
  {
   "cell_type": "markdown",
   "metadata": {},
   "source": [
    "That gets us a good chunk of the way. Now for the remaining ~1200 or so ungendered names. First we try to use fuzzy matching: "
   ]
  },
  {
   "cell_type": "code",
   "execution_count": 35,
   "metadata": {},
   "outputs": [
    {
     "data": {
      "text/plain": [
       "(1239, 13)"
      ]
     },
     "execution_count": 35,
     "metadata": {},
     "output_type": "execute_result"
    }
   ],
   "source": [
    "# Pick rows for which gender is still unknown and drop the current gender column\n",
    "\n",
    "df_unknown = df_new[(df_new['gender'].isnull()) | (df_new['gender']=='unknown') | (df_new['gender']=='incomplete') | (df_new['gender']=='not_a_name') | (df_new['gender']=='male,female')]\n",
    "df_unknown = df_unknown.drop(columns=['gender']) \n",
    "df_unknown.shape"
   ]
  },
  {
   "cell_type": "code",
   "execution_count": 39,
   "metadata": {},
   "outputs": [],
   "source": [
    "# Now the fuzzy matching:\n",
    "# Casting the first name columns into lists\n",
    "\n",
    "df1_names = list(df_unknown['firstname'].unique())\n",
    "df2_names = list(names['firstname'].unique())"
   ]
  },
  {
   "cell_type": "code",
   "execution_count": 40,
   "metadata": {},
   "outputs": [],
   "source": [
    "#Defining a function to return the match and similarity score of the fuzz.ratio() scorer. The function will take in a term(name), list of terms(list_names), and a minimum similarity score(min_score) to return the match. \n",
    "def match_names(name, list_names, min_score=0):\n",
    "    max_score = -1\n",
    "    max_name = ''\n",
    "    for x in list_names:\n",
    "        score = fuzz.ratio(name, x)\n",
    "        if (score > min_score) & (score > max_score):\n",
    "            max_name = x\n",
    "            max_score = score\n",
    "    return (max_name, max_score)"
   ]
  },
  {
   "cell_type": "code",
   "execution_count": 41,
   "metadata": {},
   "outputs": [
    {
     "data": {
      "text/plain": [
       "{'(Ferid': 'Feri)',\n",
       " '(Elyes': 'Elyess)',\n",
       " '(Ayda': 'Ada)',\n",
       " '(Bilel': 'Bile)',\n",
       " '(Fadhel': 'Fadheela)',\n",
       " '(Achraf': 'Ichraf)',\n",
       " '(Hatem': 'Haithem)',\n",
       " '(Kais': 'Kaies)',\n",
       " '(Mr': 'Mor)',\n",
       " '(Nedia': 'Fedia)',\n",
       " '(Zied': 'Zed)',\n",
       " '(Dhaker': 'Dhafer)',\n",
       " '(Fethi': 'Fethia)',\n",
       " '(Luca': 'Lucas)',\n",
       " '(Saber': 'Sabeur)',\n",
       " '(Sabrine': 'Sabrin)',\n",
       " '(Faycal': 'Faryal)',\n",
       " '(Intissar': 'Intisar)',\n",
       " '(Oussama': 'Oussema)',\n",
       " '(Amine': 'Amineh)',\n",
       " '(Imed': 'Imelda)',\n",
       " '(Brahmi': 'Brahma)',\n",
       " '(Mehdi': 'Mehndi)',\n",
       " '(El': 'El)',\n",
       " '(Bechir': 'Bechr)',\n",
       " '(Cherif': 'Cherifa)',\n",
       " '(Kamel': 'Kameel)',\n",
       " '(Alaeddine': 'Ala eddine)',\n",
       " '(Donia': 'Dona)',\n",
       " '(Nouha': 'Nuha)',\n",
       " '(Mohsen': 'Mohsin)',\n",
       " '(Slim': 'Salim)',\n",
       " '(Mokhtar': 'Mukhtar)',\n",
       " '(Chakib': 'Shakib)',\n",
       " '(Brahim': 'Brahma)',\n",
       " '(Chokri': 'Chaouki)',\n",
       " '(Lotfi': 'Lutfi)',\n",
       " '(Fouzia': 'Faouzia)',\n",
       " '(Najiba': 'Najibah)',\n",
       " '(Jamel': 'Jameel)',\n",
       " '(Lamia': 'Lamiah)',\n",
       " '(Nacer': 'Naceur)',\n",
       " '(Faouzi': 'Faouzia)',\n",
       " '(Mouhamed': 'Mohamed)',\n",
       " '(Mechlia': 'Mehalia)',\n",
       " '(Riadh': 'Riyadh)',\n",
       " '(Moncef': 'Mocef)',\n",
       " '(Samy': 'Sammy)',\n",
       " '(Anouar': 'Anouer)',\n",
       " '(Yassine': 'Yessine)',\n",
       " '(Mustapha': 'Mustahsan)',\n",
       " '(Emir': 'Emi)',\n",
       " '(Ayari': 'Aarif)',\n",
       " '(Hichem': 'Haithem)',\n",
       " '(Raouf': 'Rauf)',\n",
       " '(Wael': 'Wassel)',\n",
       " '(Salem': 'Saleem)',\n",
       " '(Ayoub': 'Ayub)',\n",
       " '(Anes': 'Anees)',\n",
       " '(Daouda': 'Dawoud)',\n",
       " '(Radia': 'Radhia)',\n",
       " '(Abderazek': 'Abdderazek)',\n",
       " '(Aicha': 'Aisha)',\n",
       " '(Taoufik': 'Toufika)',\n",
       " '(Atef': 'Awatef)',\n",
       " '(Dali': 'Dalia)',\n",
       " '(Hedi': 'Hedia)',\n",
       " '(Ibtissem': 'Ibtisam)',\n",
       " '(Noura': 'Nour)',\n",
       " '(Nezih': 'Nazih)',\n",
       " '(Ernez': 'Erez)',\n",
       " '(Mansouri': 'Mansur)',\n",
       " '(Faten': 'Fateen)',\n",
       " '(Dalila': 'Dalia)',\n",
       " '(Eljeni': 'Eleni)',\n",
       " '(Iskander': 'Iskandar)',\n",
       " \"('قرفال\": \"'قرفال)\",\n",
       " '(Sabra': 'Saba)',\n",
       " '(Samiha': 'Samihah)',\n",
       " '(Belhaj': 'Bela)',\n",
       " '(Hayet': 'Hayat)',\n",
       " '(Hamdo': 'Hamd)',\n",
       " '(Ramchi': 'Rami)',\n",
       " '(Nesrine': 'Nesrin)',\n",
       " '(Aloui': 'Alois)',\n",
       " '(Mohamed fateh': 'Mohamed amine)',\n",
       " '(Svitlana': 'Svetlana)',\n",
       " '(Doqtoor.com - m sante plus': 'Doqtoor.com - m sante plus)',\n",
       " '(Tahar': 'Taha)',\n",
       " '(Malek': 'Maleko)',\n",
       " '(Fl': 'Fl)',\n",
       " '(Monia': 'Mounia)',\n",
       " '(Harrabi': 'Harris)',\n",
       " '(Naouali': 'Naouel)',\n",
       " '(Anissa': 'Aissa)',\n",
       " '(Kenza': 'Karenza)',\n",
       " '(Ivona': 'Iona)',\n",
       " '(Nihed': 'Nihad)',\n",
       " '(Hafiane': 'Hafsia)',\n",
       " '(Bacha': 'Baha)',\n",
       " '(Y': 'Y)',\n",
       " '(Ghalia': 'Ghaliya)',\n",
       " '(Karem': 'Kareem)',\n",
       " '(Hela': 'Heela)',\n",
       " '(Sayda': 'Sadad)',\n",
       " '(Radouan': 'Radhouan)',\n",
       " '(Abed': 'Abe)',\n",
       " '(Rafla': 'Rafa)',\n",
       " '(Boukhris': 'Boris)',\n",
       " '(Marouane': 'Marouene)',\n",
       " '(Yassin': 'Yasin)',\n",
       " '(Bouth': 'Bouth)',\n",
       " '(Galaxy': 'Galaxy)',\n",
       " '(Sadri': 'Sari)',\n",
       " '(Thouraya': 'Thoraya)',\n",
       " '(Oui export': 'Oui export)',\n",
       " '(Gina': 'Gia)',\n",
       " '(Sofiane': 'Sofian)',\n",
       " '(Maryem': 'Mariem)',\n",
       " '(Talbi': 'Tali)',\n",
       " '(Rachid': 'Rchid)',\n",
       " '(S': 'S)',\n",
       " \"('سحر\": 'سحر)',\n",
       " '(Sdiri': 'Siri)',\n",
       " '(Amor': 'Amr)',\n",
       " '(Smida': 'Sinda)',\n",
       " '(De': 'De)',\n",
       " '(Nelva': 'Neva)',\n",
       " '(Sabria': 'Sabrina)',\n",
       " '(Zoubir': 'Zoubeir)',\n",
       " '(Jean': 'Jehan)',\n",
       " '(Sina': 'Sinda)',\n",
       " '(Houcine': 'Houcem)',\n",
       " '(Taher': 'Tahera)',\n",
       " '(Mouin': 'Muin)',\n",
       " '(Alber': 'Albert)',\n",
       " '(Rachichatti': 'Rachichatti)',\n",
       " '(Zouheir': 'Zouhir)',\n",
       " '(Yun': 'Yun)',\n",
       " '(Abdallah': 'Abd-allah)',\n",
       " '(Othman': 'Othmane)',\n",
       " '(Hamed': 'Hamd)',\n",
       " '(Khemis': 'Khemais)',\n",
       " '(Meriam': 'Meria)',\n",
       " '(Fehmi': 'Femi)',\n",
       " '(Hammami': 'Hammam)',\n",
       " '(Mansour': 'Mansur)',\n",
       " '(Monji': 'Mongi)',\n",
       " '(Souheil': 'Souheib)',\n",
       " '(Nasreddine': 'Sadreddine)',\n",
       " '(Tarik': 'Tarak)',\n",
       " '(Carcara': 'Carcara)',\n",
       " '(Stoer': 'Soner)',\n",
       " '(Younes': 'Tounes)',\n",
       " '(Frej': 'Fredj)',\n",
       " '(Borries': 'Borries)',\n",
       " '(Menia': 'Menia)',\n",
       " '(Sadika': 'Sadia)',\n",
       " '(Zouhair': 'Zouhaier)',\n",
       " '(Fries': 'Fries)',\n",
       " '(Driss': 'Doris)',\n",
       " '(Siro': 'Shiro)',\n",
       " '(Aref': 'Achref)',\n",
       " '(Baran': 'Badra)',\n",
       " '(Batiste': 'Baptiste)',\n",
       " '(Bronner': 'Bonnie)',\n",
       " '(Razi': 'Razia)',\n",
       " '(Ferah': 'Farah)',\n",
       " '(Hassib': 'Hasib)',\n",
       " '(Dany': 'Dagny)',\n",
       " '(Caracciolo': 'Caracciolo)',\n",
       " '(Saviour': 'Savio)',\n",
       " '(Othmani': 'Othmane)',\n",
       " '(Haikel': 'Haibel)',\n",
       " '(Bel': 'Bela)',\n",
       " '(Costa': 'Costica)',\n",
       " '(Florent': 'Florentin)',\n",
       " '(Gauss': 'Gaius)',\n",
       " '(Gargiulo': 'Gargiulo)',\n",
       " '(Rochais': 'Rochdi)',\n",
       " '(Haykel': 'Haykal)',\n",
       " '(Gonser': 'Gonser)',\n",
       " '(Yannick': 'Yannick)',\n",
       " '(Cianfelici': 'Cianfelici)',\n",
       " '(Ayachi': 'Ayah)',\n",
       " '(Slimane': 'Sulaiman)',\n",
       " '(Nejla': 'Nehla)',\n",
       " '(Micolli': 'Micolli)',\n",
       " '(Vergeau': 'Verena)',\n",
       " '(Delvas': 'Delvas)',\n",
       " '(Arbi': 'Arbia)',\n",
       " '(Marlillu': 'Marlillu)',\n",
       " '(Hazem': 'Haze)',\n",
       " '(Liusella': 'Liusella)',\n",
       " '(Woo': 'Woo)',\n",
       " '(Hamad': 'Hamadi)',\n",
       " '(Ibtissam': 'Ibtisam)',\n",
       " '(Lanfranco': 'Lanfianco)',\n",
       " '(Majed': 'Majd)',\n",
       " '(Tawfik': 'Tawfiq)',\n",
       " '(Agatina': 'Agata)',\n",
       " '(Braham': 'Bahram)',\n",
       " '(Le': 'Le)',\n",
       " '(Renda': 'Reda)',\n",
       " '(Guilhem': 'Guilherme)',\n",
       " '(Giampietro': 'Giampiero)',\n",
       " '(Claerhout': 'Claerhout)',\n",
       " '(Flavien': 'Flavie)',\n",
       " '(Andrea': 'Aindrea)',\n",
       " '(Fares': 'Farees)',\n",
       " '(Ronzi': 'Ronit)',\n",
       " '(Wadim': 'Wadi)',\n",
       " '(Gontard': 'Gontard)',\n",
       " '(Rafaelle': 'Raffaele)',\n",
       " '(Giabatti': 'Giabatti)',\n",
       " '(Esterino': 'Esteri)',\n",
       " '(Saoussen': 'Sawssen)',\n",
       " '(Gian': 'Gia)',\n",
       " '(Longhen': 'Longhen)',\n",
       " '(Amrou': 'Amro)',\n",
       " '(Racha': 'Raha)',\n",
       " '(Nicola': 'Nicolae)',\n",
       " '(Gecer': 'Gecer)',\n",
       " '(Eyssautier': 'Eyssautier)',\n",
       " '(Hamida': 'Hamidah)',\n",
       " '(Stambul': 'Sumbul)',\n",
       " '(Danti': 'Dani)',\n",
       " '(Paskwali': 'Paskwali)',\n",
       " '(Colovic': 'Colovic)',\n",
       " '(Zaher': 'Zaheer)',\n",
       " '(Ahsen': 'Ahsan)',\n",
       " '(Potito': 'Photios)',\n",
       " '(Mabrouk': 'Mabrouka)',\n",
       " '(Yosra': 'Yosr)',\n",
       " '(Calatayud': 'Calatayud)',\n",
       " '(Mittendorff': 'Mittendorff)',\n",
       " '(Jurgen': 'Jurgens)',\n",
       " '(Lopinto': 'Lopinto)',\n",
       " '(Galli': 'Galli)',\n",
       " '(Alessi': 'Alessia)',\n",
       " '(Lamberto': 'Lambert)',\n",
       " '(Radice': 'Radi)',\n",
       " '(Rachida': 'Rashida)',\n",
       " '(Essam': 'Essa)',\n",
       " '(Stade': 'Sadie)',\n",
       " '(Chawki': 'Chaouki)',\n",
       " '(Ould': 'Oualid)',\n",
       " '(Elio': 'Eliot)',\n",
       " '(Santi': 'Shanti)',\n",
       " '(Topor': 'Todor)',\n",
       " '(Philippo': 'Philipp)',\n",
       " '(Sigfried': 'Siegfried)',\n",
       " '(Palmieri': 'Palmer)',\n",
       " '(Redouane': 'Radhouane)',\n",
       " '(Manuelle': 'Manuel)',\n",
       " '(Baptista': 'Baptista)',\n",
       " '(Gabriele': 'Gabrielle)',\n",
       " '(Simone': 'Simon)',\n",
       " '(Nourreddine': 'Nourredine)',\n",
       " '(Menicucci': 'Menicucci)',\n",
       " '(Ahdrea': 'Ahdrea)',\n",
       " '(Chaker': 'Cheker)',\n",
       " '(Yamen': 'Yameen)',\n",
       " '(Giberti': 'Giberti)',\n",
       " '(Laurence': 'Laurene)',\n",
       " '(Enes': 'Eneas)',\n",
       " '(Xenofon': 'Xenon)',\n",
       " '(Skov': 'Skov)',\n",
       " '(Chadia': 'Chadlia)',\n",
       " '(Melek': 'Mele)',\n",
       " '(Abdraouf': 'Abderraouf)',\n",
       " '(Rabie': 'Rabbie)',\n",
       " '(Simeone': 'Simeon)',\n",
       " '(Murat': 'Moura)',\n",
       " '(Martial': 'Martina)',\n",
       " '(Pellicano': 'Feliciano)',\n",
       " '(Leiber': 'Liber)',\n",
       " '(Zarantonello': 'Antonello)'}"
      ]
     },
     "execution_count": 41,
     "metadata": {},
     "output_type": "execute_result"
    }
   ],
   "source": [
    "#For loop to create a list of tuples with the first value being the name from the second dataframe (name to replace) and the second value from the first dataframe (string replacing the name value). Then, casting the list of tuples as a dictionary. \n",
    "firstnames = []\n",
    "for x in df1_names:\n",
    "    match = match_names(x, df2_names, 75)\n",
    "    if match[1] >= 75:\n",
    "        name = ('(' + str(x), str(match[0]) + ')')\n",
    "        firstnames.append(name)\n",
    "name_dict = dict(firstnames)\n",
    "name_dict"
   ]
  },
  {
   "cell_type": "code",
   "execution_count": 42,
   "metadata": {},
   "outputs": [],
   "source": [
    "# Replace the names with the correct equivalent in the long list of names\n",
    "\n",
    "names['firstname'] = names['firstname'].replace(name_dict)"
   ]
  },
  {
   "cell_type": "code",
   "execution_count": 45,
   "metadata": {},
   "outputs": [
    {
     "data": {
      "text/plain": [
       "unknown        36\n",
       "incomplete      8\n",
       "not_a_name      4\n",
       "male,female     1\n",
       "Name: gender, dtype: Int64"
      ]
     },
     "execution_count": 45,
     "metadata": {},
     "output_type": "execute_result"
    }
   ],
   "source": [
    "# And try matching contacts and names again: \n",
    "\n",
    "df_solved = pd.merge(df_unknown, names, how='left', on='firstname')\n",
    "df_solved['gender'].value_counts()"
   ]
  },
  {
   "cell_type": "markdown",
   "metadata": {},
   "source": [
    "That wasn't terribly useful. It couldn't guess a single male or female name... "
   ]
  },
  {
   "cell_type": "markdown",
   "metadata": {},
   "source": [
    "## Part 4\n",
    "#### Run gender-guesser package\n",
    "To complete the list, we use a package called 'gender guesser'"
   ]
  },
  {
   "cell_type": "code",
   "execution_count": 48,
   "metadata": {},
   "outputs": [
    {
     "data": {
      "text/plain": [
       "male             958\n",
       "female           143\n",
       "unknown          130\n",
       "mostly_female      5\n",
       "andy               3\n",
       "Name: gender, dtype: int64"
      ]
     },
     "execution_count": 48,
     "metadata": {},
     "output_type": "execute_result"
    }
   ],
   "source": [
    "d = gender.Detector()\n",
    "\n",
    "df_unknown['gender'] = df_unknown['firstname'].apply(lambda x: d.get_gender(x))\n",
    "df_unknown['gender'].value_counts()"
   ]
  },
  {
   "cell_type": "markdown",
   "metadata": {},
   "source": [
    "##### Now the same but on the surnames"
   ]
  },
  {
   "cell_type": "code",
   "execution_count": 49,
   "metadata": {},
   "outputs": [
    {
     "data": {
      "text/plain": [
       "male             1046\n",
       "female            159\n",
       "unknown            26\n",
       "mostly_female       5\n",
       "andy                3\n",
       "Name: gender, dtype: int64"
      ]
     },
     "execution_count": 49,
     "metadata": {},
     "output_type": "execute_result"
    }
   ],
   "source": [
    "df_unknown.loc[df_unknown['gender']== 'unknown', 'gender'] = df_unknown['lastname'].apply(lambda x: d.get_gender(x))\n",
    "df_unknown['gender'].value_counts()"
   ]
  },
  {
   "cell_type": "code",
   "execution_count": 50,
   "metadata": {},
   "outputs": [
    {
     "data": {
      "text/plain": [
       "male             1055\n",
       "female            159\n",
       "unknown            17\n",
       "mostly_female       5\n",
       "andy                3\n",
       "Name: gender, dtype: int64"
      ]
     },
     "execution_count": 50,
     "metadata": {},
     "output_type": "execute_result"
    }
   ],
   "source": [
    "# One quick fix, many names start with 'Mr' and are male: \n",
    "\n",
    "df_unknown.loc[df_unknown['firstname']== 'Mr', 'gender'] = 'male'\n",
    "df_unknown['gender'].value_counts()"
   ]
  },
  {
   "cell_type": "code",
   "execution_count": 54,
   "metadata": {},
   "outputs": [],
   "source": [
    "# Check out the unknown ones\n",
    "# df_unknown[df_unknown['gender'] == \"andy\"]"
   ]
  },
  {
   "cell_type": "markdown",
   "metadata": {},
   "source": [
    "## Part 5:\n",
    "#### Merge and export files  \n",
    "Using Excel to avoid spacing issues "
   ]
  },
  {
   "cell_type": "code",
   "execution_count": 55,
   "metadata": {},
   "outputs": [
    {
     "data": {
      "text/plain": [
       "(3762, 13)"
      ]
     },
     "execution_count": 55,
     "metadata": {},
     "output_type": "execute_result"
    }
   ],
   "source": [
    "# First, take only rows of df_new that had already guessed the gender\n",
    "\n",
    "df_guessed = df_new[((df_new['gender']=='male') | (df_new['gender']=='female'))]\n",
    "df_guessed.shape"
   ]
  },
  {
   "cell_type": "code",
   "execution_count": 56,
   "metadata": {},
   "outputs": [
    {
     "data": {
      "text/html": [
       "<div>\n",
       "<style scoped>\n",
       "    .dataframe tbody tr th:only-of-type {\n",
       "        vertical-align: middle;\n",
       "    }\n",
       "\n",
       "    .dataframe tbody tr th {\n",
       "        vertical-align: top;\n",
       "    }\n",
       "\n",
       "    .dataframe thead th {\n",
       "        text-align: right;\n",
       "    }\n",
       "</style>\n",
       "<table border=\"1\" class=\"dataframe\">\n",
       "  <thead>\n",
       "    <tr style=\"text-align: right;\">\n",
       "      <th></th>\n",
       "      <th>Unnamed: 0</th>\n",
       "      <th>firmname</th>\n",
       "      <th>name</th>\n",
       "      <th>email</th>\n",
       "      <th>firstname</th>\n",
       "      <th>lastname</th>\n",
       "      <th>origin</th>\n",
       "      <th>governorate</th>\n",
       "      <th>town</th>\n",
       "      <th>sector</th>\n",
       "      <th>fte</th>\n",
       "      <th>export</th>\n",
       "      <th>gender</th>\n",
       "    </tr>\n",
       "  </thead>\n",
       "  <tbody>\n",
       "    <tr>\n",
       "      <th>1</th>\n",
       "      <td>1</td>\n",
       "      <td>abaplast</td>\n",
       "      <td>Akram Ben amor</td>\n",
       "      <td>abaplast@topnet.tn</td>\n",
       "      <td>Akram</td>\n",
       "      <td>Ben amor</td>\n",
       "      <td>pema</td>\n",
       "      <td>&lt;NA&gt;</td>\n",
       "      <td>&lt;NA&gt;</td>\n",
       "      <td>&lt;NA&gt;</td>\n",
       "      <td>&lt;NA&gt;</td>\n",
       "      <td>&lt;NA&gt;</td>\n",
       "      <td>male</td>\n",
       "    </tr>\n",
       "    <tr>\n",
       "      <th>4</th>\n",
       "      <td>4</td>\n",
       "      <td>abshore</td>\n",
       "      <td>Asma Mechri</td>\n",
       "      <td>asma.mechri@abshore.com</td>\n",
       "      <td>Asma</td>\n",
       "      <td>Mechri</td>\n",
       "      <td>pema</td>\n",
       "      <td>&lt;NA&gt;</td>\n",
       "      <td>&lt;NA&gt;</td>\n",
       "      <td>&lt;NA&gt;</td>\n",
       "      <td>&lt;NA&gt;</td>\n",
       "      <td>&lt;NA&gt;</td>\n",
       "      <td>female</td>\n",
       "    </tr>\n",
       "    <tr>\n",
       "      <th>6</th>\n",
       "      <td>6</td>\n",
       "      <td>acem plus</td>\n",
       "      <td>BEN SALEM</td>\n",
       "      <td>acemplus@gmail.com</td>\n",
       "      <td>Ben</td>\n",
       "      <td>Salem</td>\n",
       "      <td>pema</td>\n",
       "      <td>&lt;NA&gt;</td>\n",
       "      <td>&lt;NA&gt;</td>\n",
       "      <td>&lt;NA&gt;</td>\n",
       "      <td>&lt;NA&gt;</td>\n",
       "      <td>&lt;NA&gt;</td>\n",
       "      <td>male</td>\n",
       "    </tr>\n",
       "    <tr>\n",
       "      <th>8</th>\n",
       "      <td>8</td>\n",
       "      <td>actia</td>\n",
       "      <td>Yemen  Zegneni</td>\n",
       "      <td>yemen.zegneni@actia.engineering.tn</td>\n",
       "      <td>Yemen</td>\n",
       "      <td>zegneni</td>\n",
       "      <td>pema</td>\n",
       "      <td>&lt;NA&gt;</td>\n",
       "      <td>&lt;NA&gt;</td>\n",
       "      <td>&lt;NA&gt;</td>\n",
       "      <td>&lt;NA&gt;</td>\n",
       "      <td>&lt;NA&gt;</td>\n",
       "      <td>male</td>\n",
       "    </tr>\n",
       "    <tr>\n",
       "      <th>9</th>\n",
       "      <td>9</td>\n",
       "      <td>adactim</td>\n",
       "      <td>Maher Ferjani</td>\n",
       "      <td>maher.ferjani@adactim.com</td>\n",
       "      <td>Maher</td>\n",
       "      <td>Ferjani</td>\n",
       "      <td>pema</td>\n",
       "      <td>&lt;NA&gt;</td>\n",
       "      <td>&lt;NA&gt;</td>\n",
       "      <td>&lt;NA&gt;</td>\n",
       "      <td>&lt;NA&gt;</td>\n",
       "      <td>&lt;NA&gt;</td>\n",
       "      <td>male</td>\n",
       "    </tr>\n",
       "  </tbody>\n",
       "</table>\n",
       "</div>"
      ],
      "text/plain": [
       "  Unnamed: 0   firmname            name                               email  \\\n",
       "1          1   abaplast  Akram Ben amor                  abaplast@topnet.tn   \n",
       "4          4    abshore     Asma Mechri             asma.mechri@abshore.com   \n",
       "6          6  acem plus       BEN SALEM                  acemplus@gmail.com   \n",
       "8          8      actia  Yemen  Zegneni  yemen.zegneni@actia.engineering.tn   \n",
       "9          9    adactim   Maher Ferjani           maher.ferjani@adactim.com   \n",
       "\n",
       "  firstname  lastname origin governorate  town sector   fte export  gender  \n",
       "1     Akram  Ben amor   pema        <NA>  <NA>   <NA>  <NA>   <NA>    male  \n",
       "4      Asma    Mechri   pema        <NA>  <NA>   <NA>  <NA>   <NA>  female  \n",
       "6       Ben     Salem   pema        <NA>  <NA>   <NA>  <NA>   <NA>    male  \n",
       "8     Yemen   zegneni   pema        <NA>  <NA>   <NA>  <NA>   <NA>    male  \n",
       "9     Maher   Ferjani   pema        <NA>  <NA>   <NA>  <NA>   <NA>    male  "
      ]
     },
     "execution_count": 56,
     "metadata": {},
     "output_type": "execute_result"
    }
   ],
   "source": [
    "# Now merge\n",
    "\n",
    "frames = [df_guessed, df_unknown]\n",
    "\n",
    "df_names = pd.concat(frames)\n",
    "df_names.head()"
   ]
  },
  {
   "cell_type": "code",
   "execution_count": 65,
   "metadata": {},
   "outputs": [
    {
     "data": {
      "text/plain": [
       "(5001, 12)"
      ]
     },
     "execution_count": 65,
     "metadata": {},
     "output_type": "execute_result"
    }
   ],
   "source": [
    "# Drop useless first column\n",
    "\n",
    "df_names = df_names.drop(columns=['Unnamed: 0']) "
   ]
  },
  {
   "cell_type": "code",
   "execution_count": 66,
   "metadata": {},
   "outputs": [],
   "source": [
    "# Export to Excel\n",
    "\n",
    "df_names.to_excel(os.path.join(gdrive_path,'final','giz_contact_list.xlsx'))"
   ]
  }
 ],
 "metadata": {
  "kernelspec": {
   "display_name": "Python 3",
   "language": "python",
   "name": "python3"
  },
  "language_info": {
   "codemirror_mode": {
    "name": "ipython",
    "version": 3
   },
   "file_extension": ".py",
   "mimetype": "text/x-python",
   "name": "python",
   "nbconvert_exporter": "python",
   "pygments_lexer": "ipython3",
   "version": "3.8.3"
  }
 },
 "nbformat": 4,
 "nbformat_minor": 4
}
