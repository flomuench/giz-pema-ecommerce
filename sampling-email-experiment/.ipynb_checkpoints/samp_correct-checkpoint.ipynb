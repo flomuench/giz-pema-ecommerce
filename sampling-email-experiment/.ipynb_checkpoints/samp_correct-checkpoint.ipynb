{
 "cells": [
  {
   "cell_type": "markdown",
   "metadata": {},
   "source": [
    "## Samp – correct\n",
    "\n",
    "#### Purpose: Correct files\n",
    "Outline:   \n",
    "Part 1: Set up paths, import necessary packages  \n",
    "Part 2: Load intermediate files  \n",
    "Part 3: Correct files  \n",
    "Part 4: Export"
   ]
  },
  {
   "cell_type": "markdown",
   "metadata": {},
   "source": [
    "## Part 1  \n",
    "#### Download any necessary packages, import and set up paths"
   ]
  },
  {
   "cell_type": "code",
   "execution_count": 1,
   "metadata": {},
   "outputs": [],
   "source": [
    "## Install these packages if you don't have them already (remove the #)\n",
    "\n",
    "#!pip install earthpy"
   ]
  },
  {
   "cell_type": "code",
   "execution_count": 1,
   "metadata": {},
   "outputs": [],
   "source": [
    "import os\n",
    "import earthpy as et\n",
    "import csv\n",
    "import pandas as pd\n",
    "import re"
   ]
  },
  {
   "cell_type": "code",
   "execution_count": 2,
   "metadata": {},
   "outputs": [],
   "source": [
    "github_path = os.path.join(et.io.HOME, \"Documents\",\"GitHub\",\"giz-pema-ecommerce\",\"sampling-email-experiment\")\n",
    "\n",
    "try:\n",
    "    gdrive_path = os.path.join(et.io.HOME, \"Google Drive\", \"Research_GIZ_Tunisia_exportpromotion\",\"1. Intervention I – E-commerce\",\"data\",\"0-sampling-email-experiment\")\n",
    "    os.chdir(gdrive_path)\n",
    "except:\n",
    "    gdrive_path = os.path.join(et.io.HOME, \"Google Drive\",\"My Drive\", \"Research_GIZ_Tunisia_exportpromotion\",\"1. Intervention I – E-commerce\",\"data\",\"0-sampling-email-experiment\")"
   ]
  },
  {
   "cell_type": "markdown",
   "metadata": {},
   "source": [
    "## Part 2  \n",
    "#### Load intermediate files"
   ]
  },
  {
   "cell_type": "code",
   "execution_count": 3,
   "metadata": {},
   "outputs": [],
   "source": [
    "contacts = pd.read_csv(os.path.join(gdrive_path,'intermediate', 'giz_contact_list_ungendered.csv'), encoding= \"utf-8\", index_col=0)\n",
    "df_names = pd.read_csv(os.path.join(gdrive_path,'intermediate', 'gendered_names.csv'), encoding= \"utf-8\", index_col=0)"
   ]
  },
  {
   "cell_type": "markdown",
   "metadata": {},
   "source": [
    "## Part 3  \n",
    "#### Correct files"
   ]
  },
  {
   "cell_type": "markdown",
   "metadata": {},
   "source": [
    "#### Some cleaning and dropping duplicates"
   ]
  },
  {
   "cell_type": "markdown",
   "metadata": {},
   "source": [
    "#### Start with df_names"
   ]
  },
  {
   "cell_type": "code",
   "execution_count": 4,
   "metadata": {},
   "outputs": [
    {
     "data": {
      "text/plain": [
       "(17568, 2)"
      ]
     },
     "execution_count": 4,
     "metadata": {},
     "output_type": "execute_result"
    }
   ],
   "source": [
    "# Trim names\n",
    "\n",
    "df_names['firstname'] = df_names['firstname'].str.strip()\n",
    "\n",
    "# Normalize key accents\n",
    "\n",
    "repl = str.maketrans(\n",
    "    \"áéúíóçèîêàöëù\",\n",
    "    \"aeuioceieaoeu\"\n",
    ")\n",
    "\n",
    "df_names['firstname'] = df_names['firstname'].str.translate(repl)\n",
    "\n",
    "df_names.shape"
   ]
  },
  {
   "cell_type": "code",
   "execution_count": 5,
   "metadata": {},
   "outputs": [],
   "source": [
    "# Lower case first names and gender: \n",
    "\n",
    "df_names = df_names.applymap(lambda x: x.lower() if type(x) == str else x)\n",
    "\n",
    "# Recapitalize first names: \n",
    "\n",
    "df_names['firstname'] = df_names['firstname'].apply(lambda x: x.capitalize() if type(x) == str else x) "
   ]
  },
  {
   "cell_type": "code",
   "execution_count": 6,
   "metadata": {},
   "outputs": [
    {
     "data": {
      "text/plain": [
       "(16421, 2)"
      ]
     },
     "execution_count": 6,
     "metadata": {},
     "output_type": "execute_result"
    }
   ],
   "source": [
    "# Drop NAs\n",
    "\n",
    "df_names = df_names[df_names['firstname'].notna()]\n",
    "\n",
    "df_names = df_names.drop_duplicates(subset='firstname', keep=\"first\")\n",
    "\n",
    "df_names.shape"
   ]
  },
  {
   "cell_type": "markdown",
   "metadata": {},
   "source": [
    "#### Now with contacts"
   ]
  },
  {
   "cell_type": "code",
   "execution_count": 7,
   "metadata": {},
   "outputs": [
    {
     "data": {
      "text/plain": [
       "(5001, 11)"
      ]
     },
     "execution_count": 7,
     "metadata": {},
     "output_type": "execute_result"
    }
   ],
   "source": [
    "# Remove duplicates\n",
    "\n",
    "contacts = contacts.drop_duplicates(subset='email', keep=\"first\")\n",
    "\n",
    "# Drop NAs\n",
    "\n",
    "contacts = contacts[contacts['firstname'].notna()]\n",
    "contacts.shape"
   ]
  },
  {
   "cell_type": "code",
   "execution_count": 8,
   "metadata": {},
   "outputs": [
    {
     "data": {
      "text/html": [
       "<div>\n",
       "<style scoped>\n",
       "    .dataframe tbody tr th:only-of-type {\n",
       "        vertical-align: middle;\n",
       "    }\n",
       "\n",
       "    .dataframe tbody tr th {\n",
       "        vertical-align: top;\n",
       "    }\n",
       "\n",
       "    .dataframe thead th {\n",
       "        text-align: right;\n",
       "    }\n",
       "</style>\n",
       "<table border=\"1\" class=\"dataframe\">\n",
       "  <thead>\n",
       "    <tr style=\"text-align: right;\">\n",
       "      <th></th>\n",
       "      <th>firmname</th>\n",
       "      <th>name</th>\n",
       "      <th>email</th>\n",
       "      <th>firstname</th>\n",
       "      <th>lastname</th>\n",
       "      <th>origin</th>\n",
       "      <th>governorate</th>\n",
       "      <th>town</th>\n",
       "      <th>sector</th>\n",
       "      <th>fte</th>\n",
       "      <th>export</th>\n",
       "    </tr>\n",
       "  </thead>\n",
       "  <tbody>\n",
       "    <tr>\n",
       "      <th>0</th>\n",
       "      <td>3dwave</td>\n",
       "      <td>Ferid kamel</td>\n",
       "      <td>feridkamel@gmail.com</td>\n",
       "      <td>Ferid</td>\n",
       "      <td>kamel</td>\n",
       "      <td>pema</td>\n",
       "      <td>NaN</td>\n",
       "      <td>NaN</td>\n",
       "      <td>NaN</td>\n",
       "      <td>NaN</td>\n",
       "      <td>NaN</td>\n",
       "    </tr>\n",
       "    <tr>\n",
       "      <th>1</th>\n",
       "      <td>abaplast</td>\n",
       "      <td>Akram Ben amor</td>\n",
       "      <td>abaplast@topnet.tn</td>\n",
       "      <td>Akram</td>\n",
       "      <td>Ben amor</td>\n",
       "      <td>pema</td>\n",
       "      <td>NaN</td>\n",
       "      <td>NaN</td>\n",
       "      <td>NaN</td>\n",
       "      <td>NaN</td>\n",
       "      <td>NaN</td>\n",
       "    </tr>\n",
       "    <tr>\n",
       "      <th>2</th>\n",
       "      <td>abin consulting</td>\n",
       "      <td>Elyes Grar</td>\n",
       "      <td>elyesgrar@gmail.com</td>\n",
       "      <td>Elyes</td>\n",
       "      <td>Grar</td>\n",
       "      <td>pema</td>\n",
       "      <td>NaN</td>\n",
       "      <td>NaN</td>\n",
       "      <td>NaN</td>\n",
       "      <td>NaN</td>\n",
       "      <td>NaN</td>\n",
       "    </tr>\n",
       "    <tr>\n",
       "      <th>3</th>\n",
       "      <td>abp</td>\n",
       "      <td>Ayda Bouassida</td>\n",
       "      <td>aydabouassidaa@gmail.com</td>\n",
       "      <td>Ayda</td>\n",
       "      <td>Bouassida</td>\n",
       "      <td>pema</td>\n",
       "      <td>NaN</td>\n",
       "      <td>NaN</td>\n",
       "      <td>NaN</td>\n",
       "      <td>NaN</td>\n",
       "      <td>NaN</td>\n",
       "    </tr>\n",
       "    <tr>\n",
       "      <th>4</th>\n",
       "      <td>abshore</td>\n",
       "      <td>Asma Mechri</td>\n",
       "      <td>asma.mechri@abshore.com</td>\n",
       "      <td>Asma</td>\n",
       "      <td>Mechri</td>\n",
       "      <td>pema</td>\n",
       "      <td>NaN</td>\n",
       "      <td>NaN</td>\n",
       "      <td>NaN</td>\n",
       "      <td>NaN</td>\n",
       "      <td>NaN</td>\n",
       "    </tr>\n",
       "  </tbody>\n",
       "</table>\n",
       "</div>"
      ],
      "text/plain": [
       "          firmname            name                     email firstname  \\\n",
       "0           3dwave     Ferid kamel      feridkamel@gmail.com     Ferid   \n",
       "1         abaplast  Akram Ben amor        abaplast@topnet.tn     Akram   \n",
       "2  abin consulting      Elyes Grar       elyesgrar@gmail.com     Elyes   \n",
       "3              abp  Ayda Bouassida  aydabouassidaa@gmail.com      Ayda   \n",
       "4          abshore     Asma Mechri   asma.mechri@abshore.com      Asma   \n",
       "\n",
       "    lastname origin governorate town sector  fte export  \n",
       "0      kamel   pema         NaN  NaN    NaN  NaN    NaN  \n",
       "1   Ben amor   pema         NaN  NaN    NaN  NaN    NaN  \n",
       "2       Grar   pema         NaN  NaN    NaN  NaN    NaN  \n",
       "3  Bouassida   pema         NaN  NaN    NaN  NaN    NaN  \n",
       "4     Mechri   pema         NaN  NaN    NaN  NaN    NaN  "
      ]
     },
     "execution_count": 8,
     "metadata": {},
     "output_type": "execute_result"
    }
   ],
   "source": [
    "# Lower case first names: \n",
    "\n",
    "contacts['firstname'] = contacts['firstname'].apply(lambda x: x.lower() if type(x) == str else x)\n",
    "\n",
    "# Recapitalize: \n",
    "\n",
    "contacts['firstname'] = contacts['firstname'].apply(lambda x: x.capitalize() if type(x) == str else x)\n",
    "\n",
    "# Lower case firm names: \n",
    "\n",
    "contacts['firmname'] = contacts['firmname'].apply(lambda x: x.lower() if type(x) == str else x)\n",
    "\n",
    "# Trim first name\n",
    "\n",
    "contacts['firstname'] = contacts['firstname'].apply(lambda x: x.strip() if type(x) == str else x)\n",
    "\n",
    "# Normalize key accents\n",
    "\n",
    "repl = str.maketrans(\n",
    "    \"áéúíóçèîêàöëù\",\n",
    "    \"aeuioceieaoeu\"\n",
    ")\n",
    "\n",
    "contacts['firstname'] = contacts['firstname'].apply(lambda x: x.translate(repl) if type(x) == str else x)\n",
    "\n",
    "contacts.head()"
   ]
  },
  {
   "cell_type": "code",
   "execution_count": 9,
   "metadata": {},
   "outputs": [
    {
     "data": {
      "text/html": [
       "<div>\n",
       "<style scoped>\n",
       "    .dataframe tbody tr th:only-of-type {\n",
       "        vertical-align: middle;\n",
       "    }\n",
       "\n",
       "    .dataframe tbody tr th {\n",
       "        vertical-align: top;\n",
       "    }\n",
       "\n",
       "    .dataframe thead th {\n",
       "        text-align: right;\n",
       "    }\n",
       "</style>\n",
       "<table border=\"1\" class=\"dataframe\">\n",
       "  <thead>\n",
       "    <tr style=\"text-align: right;\">\n",
       "      <th></th>\n",
       "      <th>firmname</th>\n",
       "      <th>name</th>\n",
       "      <th>email</th>\n",
       "      <th>firstname</th>\n",
       "      <th>lastname</th>\n",
       "      <th>origin</th>\n",
       "      <th>governorate</th>\n",
       "      <th>town</th>\n",
       "      <th>sector</th>\n",
       "      <th>fte</th>\n",
       "      <th>export</th>\n",
       "    </tr>\n",
       "  </thead>\n",
       "  <tbody>\n",
       "    <tr>\n",
       "      <th>0</th>\n",
       "      <td>3dwave</td>\n",
       "      <td>Ferid kamel</td>\n",
       "      <td>feridkamel@gmail.com</td>\n",
       "      <td>Ferid</td>\n",
       "      <td>Kamel</td>\n",
       "      <td>pema</td>\n",
       "      <td>NaN</td>\n",
       "      <td>NaN</td>\n",
       "      <td>NaN</td>\n",
       "      <td>NaN</td>\n",
       "      <td>NaN</td>\n",
       "    </tr>\n",
       "    <tr>\n",
       "      <th>1</th>\n",
       "      <td>abaplast</td>\n",
       "      <td>Akram Ben amor</td>\n",
       "      <td>abaplast@topnet.tn</td>\n",
       "      <td>Akram</td>\n",
       "      <td>Ben amor</td>\n",
       "      <td>pema</td>\n",
       "      <td>NaN</td>\n",
       "      <td>NaN</td>\n",
       "      <td>NaN</td>\n",
       "      <td>NaN</td>\n",
       "      <td>NaN</td>\n",
       "    </tr>\n",
       "    <tr>\n",
       "      <th>2</th>\n",
       "      <td>abin consulting</td>\n",
       "      <td>Elyes Grar</td>\n",
       "      <td>elyesgrar@gmail.com</td>\n",
       "      <td>Elyes</td>\n",
       "      <td>Grar</td>\n",
       "      <td>pema</td>\n",
       "      <td>NaN</td>\n",
       "      <td>NaN</td>\n",
       "      <td>NaN</td>\n",
       "      <td>NaN</td>\n",
       "      <td>NaN</td>\n",
       "    </tr>\n",
       "    <tr>\n",
       "      <th>3</th>\n",
       "      <td>abp</td>\n",
       "      <td>Ayda Bouassida</td>\n",
       "      <td>aydabouassidaa@gmail.com</td>\n",
       "      <td>Ayda</td>\n",
       "      <td>Bouassida</td>\n",
       "      <td>pema</td>\n",
       "      <td>NaN</td>\n",
       "      <td>NaN</td>\n",
       "      <td>NaN</td>\n",
       "      <td>NaN</td>\n",
       "      <td>NaN</td>\n",
       "    </tr>\n",
       "    <tr>\n",
       "      <th>4</th>\n",
       "      <td>abshore</td>\n",
       "      <td>Asma Mechri</td>\n",
       "      <td>asma.mechri@abshore.com</td>\n",
       "      <td>Asma</td>\n",
       "      <td>Mechri</td>\n",
       "      <td>pema</td>\n",
       "      <td>NaN</td>\n",
       "      <td>NaN</td>\n",
       "      <td>NaN</td>\n",
       "      <td>NaN</td>\n",
       "      <td>NaN</td>\n",
       "    </tr>\n",
       "  </tbody>\n",
       "</table>\n",
       "</div>"
      ],
      "text/plain": [
       "          firmname            name                     email firstname  \\\n",
       "0           3dwave     Ferid kamel      feridkamel@gmail.com     Ferid   \n",
       "1         abaplast  Akram Ben amor        abaplast@topnet.tn     Akram   \n",
       "2  abin consulting      Elyes Grar       elyesgrar@gmail.com     Elyes   \n",
       "3              abp  Ayda Bouassida  aydabouassidaa@gmail.com      Ayda   \n",
       "4          abshore     Asma Mechri   asma.mechri@abshore.com      Asma   \n",
       "\n",
       "    lastname origin governorate town sector  fte export  \n",
       "0      Kamel   pema         NaN  NaN    NaN  NaN    NaN  \n",
       "1   Ben amor   pema         NaN  NaN    NaN  NaN    NaN  \n",
       "2       Grar   pema         NaN  NaN    NaN  NaN    NaN  \n",
       "3  Bouassida   pema         NaN  NaN    NaN  NaN    NaN  \n",
       "4     Mechri   pema         NaN  NaN    NaN  NaN    NaN  "
      ]
     },
     "execution_count": 9,
     "metadata": {},
     "output_type": "execute_result"
    }
   ],
   "source": [
    "# Lower case last names: \n",
    "\n",
    "contacts['lastname'] = contacts['lastname'].apply(lambda x: x.lower() if type(x) == str else x)\n",
    "\n",
    "# Recapitalize: \n",
    "\n",
    "contacts['lastname'] = contacts['lastname'].apply(lambda x: x.capitalize() if type(x) == str else x)\n",
    "\n",
    "# Trim last name\n",
    "\n",
    "contacts['lastname'] = contacts['lastname'].apply(lambda x: x.strip() if type(x) == str else x)\n",
    "\n",
    "# Normalize key accents\n",
    "\n",
    "repl = str.maketrans(\n",
    "    \"áéúíóçèîêàöëù\",\n",
    "    \"aeuioceieaoeu\"\n",
    ")\n",
    "\n",
    "contacts['lastname'] = contacts['lastname'].apply(lambda x: x.translate(repl) if type(x) == str else x)\n",
    "\n",
    "contacts.head()"
   ]
  },
  {
   "cell_type": "markdown",
   "metadata": {},
   "source": [
    "## Part 4  \n",
    "#### Export"
   ]
  },
  {
   "cell_type": "code",
   "execution_count": 10,
   "metadata": {},
   "outputs": [],
   "source": [
    "# Export to csv\n",
    "\n",
    "contacts.to_csv(os.path.join(gdrive_path,'intermediate','giz_contact_list_ungendered.csv'))\n",
    "df_names.to_csv(os.path.join(gdrive_path,'intermediate','gendered_names.csv'))"
   ]
  }
 ],
 "metadata": {
  "kernelspec": {
   "display_name": "Python 3",
   "language": "python",
   "name": "python3"
  },
  "language_info": {
   "codemirror_mode": {
    "name": "ipython",
    "version": 3
   },
   "file_extension": ".py",
   "mimetype": "text/x-python",
   "name": "python",
   "nbconvert_exporter": "python",
   "pygments_lexer": "ipython3",
   "version": "3.8.3"
  }
 },
 "nbformat": 4,
 "nbformat_minor": 4
}
