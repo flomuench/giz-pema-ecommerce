{
 "cells": [
  {
   "cell_type": "markdown",
   "metadata": {},
   "source": [
    "## Samp – merge\n",
    "\n",
    "#### Purpose: Merge files\n",
    "Outline:   \n",
    "Part 1: Set up paths, import necessary packages  \n",
    "Part 2: Load intermediate files  \n",
    "Part 3: Merge files  \n",
    "Part 4: Export"
   ]
  },
  {
   "cell_type": "markdown",
   "metadata": {},
   "source": [
    "## Part 1  \n",
    "#### Download any necessary packages, import and set up paths"
   ]
  },
  {
   "cell_type": "code",
   "execution_count": 5,
   "metadata": {},
   "outputs": [],
   "source": [
    "## Install these packages if you don't have them already (remove the #)\n",
    "\n",
    "#!pip install earthpy"
   ]
  },
  {
   "cell_type": "code",
   "execution_count": 1,
   "metadata": {},
   "outputs": [],
   "source": [
    "import os\n",
    "import earthpy as et\n",
    "import csv\n",
    "import pandas as pd\n",
    "import re"
   ]
  },
  {
   "cell_type": "code",
   "execution_count": 2,
   "metadata": {},
   "outputs": [],
   "source": [
    "github_path = os.path.join(et.io.HOME, \"Documents\",\"GitHub\",\"giz-pema-ecommerce\",\"sampling-email-experiment\")\n",
    "\n",
    "try:\n",
    "    gdrive_path = os.path.join(et.io.HOME, \"Google Drive\", \"Research_GIZ_Tunisia_exportpromotion\",\"1. Intervention I – E-commerce\",\"data\",\"0-sampling-email-experiment\")\n",
    "    os.chdir(gdrive_path)\n",
    "except:\n",
    "    gdrive_path = os.path.join(et.io.HOME, \"Google Drive\",\"My Drive\", \"Research_GIZ_Tunisia_exportpromotion\",\"1. Intervention I – E-commerce\",\"data\",\"0-sampling-email-experiment\")"
   ]
  },
  {
   "cell_type": "markdown",
   "metadata": {},
   "source": [
    "## Part 2  \n",
    "#### Load all files"
   ]
  },
  {
   "cell_type": "code",
   "execution_count": 3,
   "metadata": {},
   "outputs": [],
   "source": [
    "pema = pd.read_csv(os.path.join(gdrive_path,'intermediate', 'pema.csv'), encoding= \"utf-8\", index_col=0)\n",
    "pema2 = pd.read_csv(os.path.join(gdrive_path,'intermediate', 'pema2.csv'), encoding= \"utf-8\", index_col=0)\n",
    "api = pd.read_csv(os.path.join(gdrive_path,'intermediate', 'api.csv'), encoding= \"utf-8\", index_col=0)\n",
    "fra_names = pd.read_csv(os.path.join(gdrive_path,'intermediate', 'fra_names.csv'), encoding= \"utf-8\", index_col=0)\n",
    "names = pd.read_csv(os.path.join(gdrive_path,'intermediate', 'names.csv'), encoding= \"utf-8\", index_col=0)\n",
    "missing_names = pd.read_csv(os.path.join(gdrive_path,'intermediate', 'missing_names.csv'), encoding= \"utf-8\", index_col=0)\n",
    "male_names = pd.read_csv(os.path.join(gdrive_path,'intermediate', 'male_names.csv'), encoding= \"utf-8\", index_col=0)\n",
    "female_names = pd.read_csv(os.path.join(gdrive_path,'intermediate', 'female_names.csv'), encoding= \"utf-8\", index_col=0)\n",
    "missing = pd.read_csv(os.path.join(gdrive_path,'intermediate', 'missing.csv'), encoding= \"utf-8\", index_col=0)"
   ]
  },
  {
   "cell_type": "markdown",
   "metadata": {},
   "source": [
    "## Part 3  \n",
    "#### Merge files"
   ]
  },
  {
   "cell_type": "code",
   "execution_count": 4,
   "metadata": {},
   "outputs": [
    {
     "data": {
      "text/html": [
       "<div>\n",
       "<style scoped>\n",
       "    .dataframe tbody tr th:only-of-type {\n",
       "        vertical-align: middle;\n",
       "    }\n",
       "\n",
       "    .dataframe tbody tr th {\n",
       "        vertical-align: top;\n",
       "    }\n",
       "\n",
       "    .dataframe thead th {\n",
       "        text-align: right;\n",
       "    }\n",
       "</style>\n",
       "<table border=\"1\" class=\"dataframe\">\n",
       "  <thead>\n",
       "    <tr style=\"text-align: right;\">\n",
       "      <th></th>\n",
       "      <th>firmname</th>\n",
       "      <th>name</th>\n",
       "      <th>email</th>\n",
       "      <th>firstname</th>\n",
       "      <th>lastname</th>\n",
       "      <th>origin</th>\n",
       "      <th>governorate</th>\n",
       "      <th>town</th>\n",
       "      <th>sector</th>\n",
       "      <th>fte</th>\n",
       "      <th>export</th>\n",
       "    </tr>\n",
       "  </thead>\n",
       "  <tbody>\n",
       "    <tr>\n",
       "      <th>0</th>\n",
       "      <td>3Dwave</td>\n",
       "      <td>Ferid kamel</td>\n",
       "      <td>feridkamel@gmail.com</td>\n",
       "      <td>Ferid</td>\n",
       "      <td>kamel</td>\n",
       "      <td>pema</td>\n",
       "      <td>NaN</td>\n",
       "      <td>NaN</td>\n",
       "      <td>NaN</td>\n",
       "      <td>NaN</td>\n",
       "      <td>NaN</td>\n",
       "    </tr>\n",
       "    <tr>\n",
       "      <th>1</th>\n",
       "      <td>ABAPLAST</td>\n",
       "      <td>Akram Ben amor</td>\n",
       "      <td>abaplast@topnet.tn</td>\n",
       "      <td>Akram</td>\n",
       "      <td>Ben amor</td>\n",
       "      <td>pema</td>\n",
       "      <td>NaN</td>\n",
       "      <td>NaN</td>\n",
       "      <td>NaN</td>\n",
       "      <td>NaN</td>\n",
       "      <td>NaN</td>\n",
       "    </tr>\n",
       "    <tr>\n",
       "      <th>2</th>\n",
       "      <td>ABIN CONSULTING</td>\n",
       "      <td>Elyes Grar</td>\n",
       "      <td>elyesgrar@gmail.com</td>\n",
       "      <td>Elyes</td>\n",
       "      <td>Grar</td>\n",
       "      <td>pema</td>\n",
       "      <td>NaN</td>\n",
       "      <td>NaN</td>\n",
       "      <td>NaN</td>\n",
       "      <td>NaN</td>\n",
       "      <td>NaN</td>\n",
       "    </tr>\n",
       "    <tr>\n",
       "      <th>3</th>\n",
       "      <td>ABP</td>\n",
       "      <td>Ayda Bouassida</td>\n",
       "      <td>aydabouassidaa@gmail.com</td>\n",
       "      <td>Ayda</td>\n",
       "      <td>Bouassida</td>\n",
       "      <td>pema</td>\n",
       "      <td>NaN</td>\n",
       "      <td>NaN</td>\n",
       "      <td>NaN</td>\n",
       "      <td>NaN</td>\n",
       "      <td>NaN</td>\n",
       "    </tr>\n",
       "    <tr>\n",
       "      <th>4</th>\n",
       "      <td>ABSHORE</td>\n",
       "      <td>Asma Mechri</td>\n",
       "      <td>asma.mechri@abshore.com</td>\n",
       "      <td>Asma</td>\n",
       "      <td>Mechri</td>\n",
       "      <td>pema</td>\n",
       "      <td>NaN</td>\n",
       "      <td>NaN</td>\n",
       "      <td>NaN</td>\n",
       "      <td>NaN</td>\n",
       "      <td>NaN</td>\n",
       "    </tr>\n",
       "  </tbody>\n",
       "</table>\n",
       "</div>"
      ],
      "text/plain": [
       "          firmname            name                     email firstname  \\\n",
       "0           3Dwave     Ferid kamel      feridkamel@gmail.com     Ferid   \n",
       "1         ABAPLAST  Akram Ben amor        abaplast@topnet.tn     Akram   \n",
       "2  ABIN CONSULTING      Elyes Grar       elyesgrar@gmail.com     Elyes   \n",
       "3              ABP  Ayda Bouassida  aydabouassidaa@gmail.com      Ayda   \n",
       "4          ABSHORE     Asma Mechri   asma.mechri@abshore.com      Asma   \n",
       "\n",
       "    lastname origin governorate town sector  fte export  \n",
       "0      kamel   pema         NaN  NaN    NaN  NaN    NaN  \n",
       "1   Ben amor   pema         NaN  NaN    NaN  NaN    NaN  \n",
       "2       Grar   pema         NaN  NaN    NaN  NaN    NaN  \n",
       "3  Bouassida   pema         NaN  NaN    NaN  NaN    NaN  \n",
       "4     Mechri   pema         NaN  NaN    NaN  NaN    NaN  "
      ]
     },
     "execution_count": 4,
     "metadata": {},
     "output_type": "execute_result"
    }
   ],
   "source": [
    "# Merge contact files\n",
    "\n",
    "frames = [pema, pema2, api]\n",
    "\n",
    "df = pd.concat(frames)\n",
    "df.head()"
   ]
  },
  {
   "cell_type": "code",
   "execution_count": 5,
   "metadata": {},
   "outputs": [
    {
     "data": {
      "text/html": [
       "<div>\n",
       "<style scoped>\n",
       "    .dataframe tbody tr th:only-of-type {\n",
       "        vertical-align: middle;\n",
       "    }\n",
       "\n",
       "    .dataframe tbody tr th {\n",
       "        vertical-align: top;\n",
       "    }\n",
       "\n",
       "    .dataframe thead th {\n",
       "        text-align: right;\n",
       "    }\n",
       "</style>\n",
       "<table border=\"1\" class=\"dataframe\">\n",
       "  <thead>\n",
       "    <tr style=\"text-align: right;\">\n",
       "      <th></th>\n",
       "      <th>firstname</th>\n",
       "      <th>gender</th>\n",
       "    </tr>\n",
       "  </thead>\n",
       "  <tbody>\n",
       "    <tr>\n",
       "      <th>0</th>\n",
       "      <td>aabidah</td>\n",
       "      <td>female</td>\n",
       "    </tr>\n",
       "    <tr>\n",
       "      <th>1</th>\n",
       "      <td>aabirah</td>\n",
       "      <td>female</td>\n",
       "    </tr>\n",
       "    <tr>\n",
       "      <th>2</th>\n",
       "      <td>aabish</td>\n",
       "      <td>female</td>\n",
       "    </tr>\n",
       "    <tr>\n",
       "      <th>3</th>\n",
       "      <td>aadab</td>\n",
       "      <td>female</td>\n",
       "    </tr>\n",
       "    <tr>\n",
       "      <th>4</th>\n",
       "      <td>aadila</td>\n",
       "      <td>female</td>\n",
       "    </tr>\n",
       "  </tbody>\n",
       "</table>\n",
       "</div>"
      ],
      "text/plain": [
       "  firstname  gender\n",
       "0   aabidah  female\n",
       "1   aabirah  female\n",
       "2    aabish  female\n",
       "3     aadab  female\n",
       "4    aadila  female"
      ]
     },
     "execution_count": 5,
     "metadata": {},
     "output_type": "execute_result"
    }
   ],
   "source": [
    "# Merge names files\n",
    "\n",
    "frames = [missing, female_names, male_names, missing_names, names, fra_names]\n",
    "\n",
    "df_names = pd.concat(frames)\n",
    "df_names = df_names[['firstname', 'gender']]\n",
    "df_names.head()"
   ]
  },
  {
   "cell_type": "markdown",
   "metadata": {},
   "source": [
    "## Part 4  \n",
    "#### Export"
   ]
  },
  {
   "cell_type": "code",
   "execution_count": 6,
   "metadata": {},
   "outputs": [],
   "source": [
    "# Export to csv\n",
    "\n",
    "df.to_csv(os.path.join(gdrive_path,'intermediate','giz_contact_list_ungendered.csv'))\n",
    "df_names.to_csv(os.path.join(gdrive_path,'intermediate','gendered_names.csv'))"
   ]
  }
 ],
 "metadata": {
  "kernelspec": {
   "display_name": "Python 3",
   "language": "python",
   "name": "python3"
  },
  "language_info": {
   "codemirror_mode": {
    "name": "ipython",
    "version": 3
   },
   "file_extension": ".py",
   "mimetype": "text/x-python",
   "name": "python",
   "nbconvert_exporter": "python",
   "pygments_lexer": "ipython3",
   "version": "3.8.3"
  }
 },
 "nbformat": 4,
 "nbformat_minor": 4
}
