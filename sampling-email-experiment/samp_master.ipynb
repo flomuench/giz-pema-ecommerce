{
 "cells": [
  {
   "cell_type": "markdown",
   "metadata": {},
   "source": [
    "## Samp – master\n",
    "\n",
    "#### Purpose: Run all other files\n",
    "Outline:   \n",
    "Part 1: Set up paths, import necessary packages  \n",
    "Part 2: Run all notebooks"
   ]
  },
  {
   "cell_type": "markdown",
   "metadata": {},
   "source": [
    "## Part 1  \n",
    "#### Download any necessary packages, import and set up paths"
   ]
  },
  {
   "cell_type": "code",
   "execution_count": 1,
   "metadata": {},
   "outputs": [],
   "source": [
    "## Install these packages if you don't have them already (remove the #)\n",
    "\n",
    "#!pip install earthpy"
   ]
  },
  {
   "cell_type": "code",
   "execution_count": 13,
   "metadata": {},
   "outputs": [],
   "source": [
    "import os\n",
    "import earthpy as et\n",
    "import csv\n",
    "import pandas as pd\n",
    "import re"
   ]
  },
  {
   "cell_type": "code",
   "execution_count": 14,
   "metadata": {},
   "outputs": [],
   "source": [
    "github_path = os.path.join(et.io.HOME, \"Documents\",\"GitHub\",\"giz-pema-ecommerce\",\"sampling-email-experiment\")\n",
    "\n",
    "try:\n",
    "    gdrive_path = os.path.join(et.io.HOME, \"Google Drive\", \"Research_GIZ_Tunisia_exportpromotion\",\"1. Intervention I – E-commerce\",\"data\",\"0-sampling-email-experiment\")\n",
    "    os.chdir(gdrive_path)\n",
    "except:\n",
    "    gdrive_path = os.path.join(et.io.HOME, \"Google Drive\",\"My Drive\", \"Research_GIZ_Tunisia_exportpromotion\",\"1. Intervention I – E-commerce\",\"data\",\"0-sampling-email-experiment\")"
   ]
  },
  {
   "cell_type": "markdown",
   "metadata": {},
   "source": [
    "## Part 2  \n",
    "#### Run each notebook"
   ]
  },
  {
   "cell_type": "code",
   "execution_count": 15,
   "metadata": {},
   "outputs": [],
   "source": [
    "# Run samp_import\n",
    "# This imports all raw files from the 'raw' folder\n",
    "\n",
    "%run samp_import.ipynb"
   ]
  },
  {
   "cell_type": "code",
   "execution_count": 16,
   "metadata": {},
   "outputs": [],
   "source": [
    "# Run samp_clean\n",
    "# This cleans all files (lower casing, splitting first and last names, etc.)\n",
    "\n",
    "%run samp_clean.ipynb"
   ]
  },
  {
   "cell_type": "code",
   "execution_count": 17,
   "metadata": {},
   "outputs": [],
   "source": [
    "# Run samp_merge\n",
    "# This merges all files (i.e. all contact lists files with each other, and all gendered names files together)\n",
    "\n",
    "%run samp_merge.ipynb"
   ]
  },
  {
   "cell_type": "code",
   "execution_count": 18,
   "metadata": {},
   "outputs": [],
   "source": [
    "# Run samp_correct\n",
    "# This makes a few corrections to the contact list and gendered names files\n",
    "# (Mainly ensuring that the strings in each are )\n",
    "\n",
    "%run samp_correct.ipynb"
   ]
  },
  {
   "cell_type": "code",
   "execution_count": 19,
   "metadata": {},
   "outputs": [],
   "source": [
    "%run samp_genderguesser.ipynb"
   ]
  }
 ],
 "metadata": {
  "kernelspec": {
   "display_name": "Python 3",
   "language": "python",
   "name": "python3"
  },
  "language_info": {
   "codemirror_mode": {
    "name": "ipython",
    "version": 3
   },
   "file_extension": ".py",
   "mimetype": "text/x-python",
   "name": "python",
   "nbconvert_exporter": "python",
   "pygments_lexer": "ipython3",
   "version": "3.8.3"
  }
 },
 "nbformat": 4,
 "nbformat_minor": 4
}
