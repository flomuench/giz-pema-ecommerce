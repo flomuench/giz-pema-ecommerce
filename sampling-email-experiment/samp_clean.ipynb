{
 "cells": [
  {
   "cell_type": "markdown",
   "metadata": {},
   "source": [
    "## Samp – clean\n",
    "\n",
    "#### Purpose: Clean files\n",
    "Outline:   \n",
    "Part 1: Set up paths, import necessary packages  \n",
    "Part 2: Load intermediate files  \n",
    "Part 3: Clean files  \n",
    "Part 4: Export"
   ]
  },
  {
   "cell_type": "markdown",
   "metadata": {},
   "source": [
    "## Part 1  \n",
    "#### Download any necessary packages, import and set up paths"
   ]
  },
  {
   "cell_type": "code",
   "execution_count": 1,
   "metadata": {},
   "outputs": [],
   "source": [
    "## Install these packages if you don't have them already (remove the #)\n",
    "\n",
    "#!pip install earthpy"
   ]
  },
  {
   "cell_type": "code",
   "execution_count": 1,
   "metadata": {},
   "outputs": [],
   "source": [
    "import os\n",
    "import earthpy as et\n",
    "import csv\n",
    "import pandas as pd\n",
    "import re"
   ]
  },
  {
   "cell_type": "code",
   "execution_count": 2,
   "metadata": {},
   "outputs": [],
   "source": [
    "github_path = os.path.join(et.io.HOME, \"Documents\",\"GitHub\",\"giz-pema-ecommerce\",\"sampling-email-experiment\")\n",
    "\n",
    "try:\n",
    "    gdrive_path = os.path.join(et.io.HOME, \"Google Drive\", \"Research_GIZ_Tunisia_exportpromotion\",\"1. Intervention I – E-commerce\",\"data\",\"0-sampling-email-experiment\")\n",
    "    os.chdir(gdrive_path)\n",
    "except:\n",
    "    gdrive_path = os.path.join(et.io.HOME, \"Google Drive\",\"My Drive\", \"Research_GIZ_Tunisia_exportpromotion\",\"1. Intervention I – E-commerce\",\"data\",\"0-sampling-email-experiment\")"
   ]
  },
  {
   "cell_type": "markdown",
   "metadata": {},
   "source": [
    "## Part 2  \n",
    "#### Load intermediate files"
   ]
  },
  {
   "cell_type": "code",
   "execution_count": 3,
   "metadata": {},
   "outputs": [],
   "source": [
    "pema = pd.read_csv(os.path.join(gdrive_path,'intermediate', 'pema.csv'), encoding= \"utf-8\", index_col=0)\n",
    "pema2 = pd.read_csv(os.path.join(gdrive_path,'intermediate', 'pema2.csv'), encoding= \"utf-8\", index_col=0)\n",
    "api = pd.read_csv(os.path.join(gdrive_path,'intermediate', 'api.csv'), encoding= \"utf-8\", index_col=0)\n",
    "fra_names = pd.read_csv(os.path.join(gdrive_path,'intermediate', 'fra_names.csv'), encoding= \"utf-8\", index_col=0)\n",
    "names = pd.read_csv(os.path.join(gdrive_path,'intermediate', 'names.csv'), encoding= \"utf-8\", index_col=0)\n",
    "missing_names = pd.read_csv(os.path.join(gdrive_path,'intermediate', 'missing_names.csv'), encoding= \"utf-8\", index_col=0)\n",
    "male_names = pd.read_csv(os.path.join(gdrive_path,'intermediate', 'male_names.csv'), encoding= \"utf-8\", index_col=0)\n",
    "female_names = pd.read_csv(os.path.join(gdrive_path,'intermediate', 'female_names.csv'), encoding= \"utf-8\", index_col=0)\n",
    "missing = pd.read_csv(os.path.join(gdrive_path,'intermediate', 'missing.csv'), encoding= \"utf-8\", index_col=0)"
   ]
  },
  {
   "cell_type": "markdown",
   "metadata": {},
   "source": [
    "## Part 3  \n",
    "#### Clean files"
   ]
  },
  {
   "cell_type": "markdown",
   "metadata": {},
   "source": [
    "#### Clean 'Pema'"
   ]
  },
  {
   "cell_type": "code",
   "execution_count": 4,
   "metadata": {},
   "outputs": [],
   "source": [
    "# Split name into first and last\n",
    "\n",
    "pema['name'] = pema['name'].str.strip()\n",
    "pema[['firstname','lastname']] = pema[\"name\"].str.split(\" \", 1, expand=True)\n",
    "\n",
    "# Add column identifying the origin of the contact\n",
    "pema['origin'] = 'pema'"
   ]
  },
  {
   "cell_type": "markdown",
   "metadata": {},
   "source": [
    "#### Clean 'Pema 2'"
   ]
  },
  {
   "cell_type": "code",
   "execution_count": 5,
   "metadata": {},
   "outputs": [],
   "source": [
    "# Add column identifying the origin of the contact\n",
    "\n",
    "pema2['origin'] = 'pema2'"
   ]
  },
  {
   "cell_type": "markdown",
   "metadata": {},
   "source": [
    "#### Clean 'API'"
   ]
  },
  {
   "cell_type": "code",
   "execution_count": 6,
   "metadata": {},
   "outputs": [],
   "source": [
    "# Add column identifying the origin of the contact\n",
    "\n",
    "api['origin'] = 'api'"
   ]
  },
  {
   "cell_type": "code",
   "execution_count": 7,
   "metadata": {},
   "outputs": [],
   "source": [
    "# Split name into first and last\n",
    "\n",
    "api['name'] = api['name'].str.strip()\n",
    "api[['firstname','lastname']] = api[\"name\"].str.split(\" \", 1, expand=True)"
   ]
  },
  {
   "cell_type": "code",
   "execution_count": 8,
   "metadata": {},
   "outputs": [
    {
     "data": {
      "text/plain": [
       "(4016, 11)"
      ]
     },
     "execution_count": 8,
     "metadata": {},
     "output_type": "execute_result"
    }
   ],
   "source": [
    "# Plenty of missing emails, drop\n",
    "\n",
    "api = api[api['email'].notna()]\n",
    "api.shape"
   ]
  },
  {
   "cell_type": "markdown",
   "metadata": {},
   "source": [
    "#### Clean 'fra_names'"
   ]
  },
  {
   "cell_type": "code",
   "execution_count": 9,
   "metadata": {},
   "outputs": [
    {
     "data": {
      "text/plain": [
       "male           5878\n",
       "female         5313\n",
       "male,female     289\n",
       "female,male     147\n",
       "Name: gender, dtype: int64"
      ]
     },
     "execution_count": 9,
     "metadata": {},
     "output_type": "execute_result"
    }
   ],
   "source": [
    "# Replace 'm' with 'male' etc\n",
    "\n",
    "fra_names['gender'] = fra_names['gender'].str.replace('m','male')\n",
    "fra_names['gender'] = fra_names['gender'].str.replace('f','female')\n",
    "fra_names['gender'] = fra_names['gender'].str.replace('m,f','mostly male')\n",
    "fra_names['gender'] = fra_names['gender'].str.replace('f,m','mostly female')\n",
    "fra_names['gender'].value_counts()"
   ]
  },
  {
   "cell_type": "markdown",
   "metadata": {},
   "source": [
    "#### Clean 'names'"
   ]
  },
  {
   "cell_type": "code",
   "execution_count": 10,
   "metadata": {},
   "outputs": [
    {
     "data": {
      "text/plain": [
       "male      502\n",
       "female    152\n",
       "Name: gender, dtype: int64"
      ]
     },
     "execution_count": 10,
     "metadata": {},
     "output_type": "execute_result"
    }
   ],
   "source": [
    "names['gender'] = names['gender'].str.replace('M','male')\n",
    "names['gender'] = names['gender'].str.replace('F','female')\n",
    "names['gender'].value_counts()"
   ]
  },
  {
   "cell_type": "markdown",
   "metadata": {},
   "source": [
    "#### Clean 'missing_names'"
   ]
  },
  {
   "cell_type": "code",
   "execution_count": 11,
   "metadata": {},
   "outputs": [
    {
     "data": {
      "text/plain": [
       "male       276\n",
       "unknown     63\n",
       "female      49\n",
       "Name: gender, dtype: int64"
      ]
     },
     "execution_count": 11,
     "metadata": {},
     "output_type": "execute_result"
    }
   ],
   "source": [
    "missing_names['gender'] = missing_names['gender'].str.replace('M','male')\n",
    "missing_names['gender'] = missing_names['gender'].str.replace('F','female')\n",
    "missing_names['gender'] = missing_names['gender'].str.replace('?','unknown')\n",
    "missing_names['gender'].value_counts()"
   ]
  },
  {
   "cell_type": "markdown",
   "metadata": {},
   "source": [
    "#### Clean 'male_names'"
   ]
  },
  {
   "cell_type": "code",
   "execution_count": 12,
   "metadata": {},
   "outputs": [
    {
     "data": {
      "text/plain": [
       "male    2066\n",
       "Name: gender, dtype: int64"
      ]
     },
     "execution_count": 12,
     "metadata": {},
     "output_type": "execute_result"
    }
   ],
   "source": [
    "male_names['gender'] = male_names['gender'].str.replace('M','male')\n",
    "male_names['gender'].value_counts()"
   ]
  },
  {
   "cell_type": "markdown",
   "metadata": {},
   "source": [
    "#### Clean 'female_names'"
   ]
  },
  {
   "cell_type": "code",
   "execution_count": 13,
   "metadata": {},
   "outputs": [
    {
     "data": {
      "text/plain": [
       "female    2445\n",
       "Name: gender, dtype: int64"
      ]
     },
     "execution_count": 13,
     "metadata": {},
     "output_type": "execute_result"
    }
   ],
   "source": [
    "female_names['gender'] = female_names['gender'].str.replace('F','female')\n",
    "female_names['gender'].value_counts()"
   ]
  },
  {
   "cell_type": "markdown",
   "metadata": {},
   "source": [
    "## Part 4  \n",
    "#### Save files  as csvs in the intermediate data folder"
   ]
  },
  {
   "cell_type": "code",
   "execution_count": 14,
   "metadata": {},
   "outputs": [],
   "source": [
    "pema.to_csv(os.path.join(gdrive_path,'intermediate','pema.csv'))\n",
    "pema2.to_csv(os.path.join(gdrive_path,'intermediate','pema2.csv'))\n",
    "api.to_csv(os.path.join(gdrive_path,'intermediate','api.csv'))\n",
    "fra_names.to_csv(os.path.join(gdrive_path,'intermediate','fra_names.csv'))\n",
    "names.to_csv(os.path.join(gdrive_path,'intermediate','names.csv'))\n",
    "missing_names.to_csv(os.path.join(gdrive_path,'intermediate','missing_names.csv'))\n",
    "male_names.to_csv(os.path.join(gdrive_path,'intermediate','male_names.csv'))\n",
    "female_names.to_csv(os.path.join(gdrive_path,'intermediate','female_names.csv'))\n",
    "missing.to_csv(os.path.join(gdrive_path,'intermediate','missing.csv'))"
   ]
  }
 ],
 "metadata": {
  "kernelspec": {
   "display_name": "Python 3",
   "language": "python",
   "name": "python3"
  },
  "language_info": {
   "codemirror_mode": {
    "name": "ipython",
    "version": 3
   },
   "file_extension": ".py",
   "mimetype": "text/x-python",
   "name": "python",
   "nbconvert_exporter": "python",
   "pygments_lexer": "ipython3",
   "version": "3.8.3"
  }
 },
 "nbformat": 4,
 "nbformat_minor": 4
}
